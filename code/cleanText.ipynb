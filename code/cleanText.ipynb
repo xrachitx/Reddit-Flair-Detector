{
 "cells": [
  {
   "cell_type": "markdown",
   "metadata": {},
   "source": [
    "## Importing Dependencies for Cleaning"
   ]
  },
  {
   "cell_type": "code",
   "execution_count": 1,
   "metadata": {},
   "outputs": [],
   "source": [
    "import re\n",
    "import lxml\n",
    "import nltk\n",
    "import pandas as pd\n",
    "import pymongo\n",
    "from pymongo import MongoClient\n",
    "from bs4 import BeautifulSoup\n",
    "from nltk.tokenize import word_tokenize\n",
    "from nltk.tokenize import RegexpTokenizer\n",
    "from nltk.corpus import stopwords"
   ]
  },
  {
   "cell_type": "markdown",
   "metadata": {},
   "source": [
    "## Removes HTML Syntax"
   ]
  },
  {
   "cell_type": "code",
   "execution_count": 2,
   "metadata": {},
   "outputs": [],
   "source": [
    "def decodeHTML(data):\n",
    "    data = BeautifulSoup(data,\"lxml\").text\n",
    "    return data"
   ]
  },
  {
   "cell_type": "markdown",
   "metadata": {},
   "source": [
    "## Lowers the Entire Text"
   ]
  },
  {
   "cell_type": "code",
   "execution_count": 3,
   "metadata": {},
   "outputs": [],
   "source": [
    "def normaliseTextToLower(data):\n",
    "    return data.lower()"
   ]
  },
  {
   "cell_type": "markdown",
   "metadata": {},
   "source": [
    "## Splitting text and removing Punctuation"
   ]
  },
  {
   "cell_type": "code",
   "execution_count": 4,
   "metadata": {},
   "outputs": [],
   "source": [
    "def tokenizeAndPunctuationRemoval(data):\n",
    "    tokenizedList=[]\n",
    "    for token in RegexpTokenizer('\\w+').tokenize(data):\n",
    "        tokenizedList.append(token)\n",
    "    return tokenizedList"
   ]
  },
  {
   "cell_type": "markdown",
   "metadata": {},
   "source": [
    "## Removal of all Numbers"
   ]
  },
  {
   "cell_type": "code",
   "execution_count": 5,
   "metadata": {},
   "outputs": [],
   "source": [
    "def removeNumbers(dataList):\n",
    "    dataListRefined = []\n",
    "    for token in dataList:\n",
    "        if not (token.isnumeric()):\n",
    "            dataListRefined.append(token)\n",
    "    # print(\"HELO\")\n",
    "    return dataListRefined"
   ]
  },
  {
   "cell_type": "markdown",
   "metadata": {},
   "source": [
    "## Removing Stop Words "
   ]
  },
  {
   "cell_type": "code",
   "execution_count": 6,
   "metadata": {},
   "outputs": [],
   "source": [
    "def removeStopWords(dataList): #stopwords are words like \"the\", \"in\" etc\n",
    "    dataList = list(set(dataList))\n",
    "    stopWords = set(stopwords.words(\"english\"))\n",
    "    nonStoppedWords = list(token for token in dataList if token not in stopWords)\n",
    "    convertToText = \" \".join(nonStoppedWords)\n",
    "    return convertToText"
   ]
  },
  {
   "cell_type": "markdown",
   "metadata": {},
   "source": [
    "## Clean Data Function"
   ]
  },
  {
   "cell_type": "code",
   "execution_count": 7,
   "metadata": {},
   "outputs": [],
   "source": [
    "def cleanData(data):\n",
    "    return (removeStopWords(removeNumbers(tokenizeAndPunctuationRemoval(normaliseTextToLower(decodeHTML(data))))))"
   ]
  },
  {
   "cell_type": "markdown",
   "metadata": {},
   "source": [
    "## Cleaning data stored in MongoDB"
   ]
  },
  {
   "cell_type": "code",
   "execution_count": 9,
   "metadata": {},
   "outputs": [
    {
     "name": "stdout",
     "output_type": "stream",
     "text": [
      "                           _id  \\\n",
      "0     5ea151689ebdc115e5417fab   \n",
      "1     5ea1516c9ebdc115e5417fac   \n",
      "2     5ea1516f9ebdc115e5417fad   \n",
      "3     5ea151729ebdc115e5417fae   \n",
      "4     5ea151759ebdc115e5417faf   \n",
      "...                        ...   \n",
      "2663  5ea161c39ebdc115e5418a12   \n",
      "2664  5ea161c49ebdc115e5418a13   \n",
      "2665  5ea161c69ebdc115e5418a14   \n",
      "2666  5ea161c79ebdc115e5418a15   \n",
      "2667  5ea161c89ebdc115e5418a16   \n",
      "\n",
      "                                                  title  \\\n",
      "0                 Late Night Random Discussion Thread !   \n",
      "1                 Late Night Random Discussion Thread !   \n",
      "2     Random Daily Discussion Thread - April 12, 202...   \n",
      "3                 Late Night Random Discussion Thread !   \n",
      "4                 Late Night Random Discussion Thread !   \n",
      "...                                                 ...   \n",
      "2663  Coronavirus outbreak Woman with no travel hist...   \n",
      "2664  PM Modi says Covid-19 does not see race, relig...   \n",
      "2665  30% of India’s Covid-19 positive caseload link...   \n",
      "2666  The nationwide lockdown has led to better air ...   \n",
      "2667  45-day old infant youngest COVID-19 casualty. ...   \n",
      "\n",
      "                                                    url          author  \\\n",
      "0     https://www.reddit.com/r/india/comments/g0lfy8...       oxythebot   \n",
      "1     https://www.reddit.com/r/india/comments/fx8sbw...       oxythebot   \n",
      "2     https://www.reddit.com/r/india/comments/fzpfrc...       oxythebot   \n",
      "3     https://www.reddit.com/r/india/comments/fyi8g2...       oxythebot   \n",
      "4     https://www.reddit.com/r/india/comments/fzyyju...       oxythebot   \n",
      "...                                                 ...             ...   \n",
      "2663  https://m.mid-day.com/amp/articles/coronavirus...  kingof-potatos   \n",
      "2664  https://m.hindustantimes.com/india-news/pm-mod...    varun1102030   \n",
      "2665  https://theprint.in/health/30-of-indias-covid-...        Slowbhai   \n",
      "2666  https://twitter.com/DiscoveryIN/status/1251801...        aviakki1   \n",
      "2667  https://www.businesstoday.in/latest/trends/cor...    DenseSpirit5   \n",
      "\n",
      "                                               textBody        flair  \\\n",
      "0     ^Beep ^Boop ^Bot, ^I ^am ^a ^bot! ^if ^any ^pr...    Scheduled   \n",
      "1     ^Beep ^Boop ^Bot, ^I ^am ^a ^bot! ^if ^any ^pr...    Scheduled   \n",
      "2     ^Beep ^Boop ^Bot, ^I ^am ^a ^bot! ^if ^any ^pr...    Scheduled   \n",
      "3     ^Beep ^Boop ^Bot, ^I ^am ^a ^bot! ^if ^any ^pr...    Scheduled   \n",
      "4     ^Beep ^Boop ^Bot, ^I ^am ^a ^bot! ^if ^any ^pr...    Scheduled   \n",
      "...                                                 ...          ...   \n",
      "2663                                                     Coronavirus   \n",
      "2664                                                     Coronavirus   \n",
      "2665                                                     Coronavirus   \n",
      "2666                                                     Coronavirus   \n",
      "2667                                                     Coronavirus   \n",
      "\n",
      "                                               comments  \\\n",
      "0     My Dadi passed away today at 7 pm, she was not...   \n",
      "1     [deleted] I’m having a cough since morning. Fe...   \n",
      "2     My friends complaining about running out of da...   \n",
      "3     Every time I come to this thread I realise how...   \n",
      "4     Education minister of Maharashtra wants to tak...   \n",
      "...                                                 ...   \n",
      "2663  >The woman confirmed to mid-day that she had d...   \n",
      "2664  Oh the irony Covid-19 doesn't but you politici...   \n",
      "2665  And does that include contacts of Jamaat meet ...   \n",
      "2666                                                      \n",
      "2667  😨😨😨😨 0 to 1 is a risky age when it comes to co...   \n",
      "\n",
      "                                                authors  \n",
      "0     Desi_Bojack_Horseman imfuckedforever None None...  \n",
      "1     None hitch44 BainganDrift loveonfireasian None...  \n",
      "2     bunnykumarxyz Desi_Bojack_Horseman None Meraxe...  \n",
      "3     BainganDrift desdrot Desi_Bojack_Horseman None...  \n",
      "4     None Meraxes373 captainmogambo sfwaccountfw ac...  \n",
      "...                                                 ...  \n",
      "2663                       hauntin he_is_not_our_member  \n",
      "2664  pythonapster NutellaForSatella TWO-WHEELER-MAF...  \n",
      "2665  apestogetherstoned bookthiefj0 chowkidarchor B...  \n",
      "2666                                                     \n",
      "2667                       promiscuous_bhisma icicibank  \n",
      "\n",
      "[2668 rows x 8 columns]\n",
      "xxxxxxxxxxxxxxxxxxxxxxxxxxxx BREAK xxxxxxxxxxxxxxxxxxxxxxx\n",
      "0                     late random discussion thread night\n",
      "1                     late random discussion thread night\n",
      "2               daily random discussion april thread 15am\n",
      "3                     late random discussion thread night\n",
      "4                     late random discussion thread night\n",
      "                              ...                        \n",
      "2663    outbreak whisked travel woman history bmc away...\n",
      "2664    covid race see modi creed pm religion colour c...\n",
      "2665    tablighi jamaat govt positive linked india cov...\n",
      "2666    breathe thanks particulate air quality week he...\n",
      "2667    infant covid nurses three day contact found te...\n",
      "Name: title, Length: 2668, dtype: object\n",
      "xxxxxxxxxxxxxxxxxxxxxxxxxxxx BREAK xxxxxxxxxxxxxxxxxxxxxxx\n",
      "0                     late random discussion thread night\n",
      "1                     late random discussion thread night\n",
      "2               daily discussion random april thread 15am\n",
      "3                     late random discussion thread night\n",
      "4                     late random discussion thread night\n",
      "                              ...                        \n",
      "2663    outbreak whisked travel woman history bmc away...\n",
      "2664    covid race see modi creed pm religion colour c...\n",
      "2665    tablighi jamaat govt positive linked india cov...\n",
      "2666    breathe dropped air quality week heroesfromhom...\n",
      "2667    casualty old positive infection infant child c...\n",
      "Name: textBody, Length: 2668, dtype: object\n",
      "xxxxxxxxxxxxxxxxxxxxxxxxxxxx BREAK xxxxxxxxxxxxxxxxxxxxxxx\n",
      "0                     late random discussion thread night\n",
      "1                     late random discussion thread night\n",
      "2               daily discussion random april thread 15am\n",
      "3                     late random discussion thread night\n",
      "4                     late random discussion thread night\n",
      "                              ...                        \n",
      "2663    outbreak whisked travel woman history bmc away...\n",
      "2664    covid race see modi creed pm religion colour c...\n",
      "2665    tablighi jamaat govt positive linked india cov...\n",
      "2666    breathe dropped air quality week heroesfromhom...\n",
      "2667    casualty old positive infection infant child c...\n",
      "Name: comments, Length: 2668, dtype: object\n"
     ]
    }
   ],
   "source": [
    "mongo = MongoClient(\"mongodb://localhost:27017/\")\n",
    "db = mongo.reddit\n",
    "#100 post data in srIndia\n",
    "posts = pd.DataFrame(list(db.rIndia.find()))\n",
    "print(posts)\n",
    "# print(posts[\"title\"])\n",
    "print(\"xxxxxxxxxxxxxxxxxxxxxxxxxxxx BREAK xxxxxxxxxxxxxxxxxxxxxxx\")\n",
    "posts[\"title\"] = posts[\"title\"].apply(cleanData)\n",
    "posts[\"textBody\"] = posts[\"title\"].apply(cleanData)\n",
    "posts[\"comments\"] = posts[\"title\"].apply(cleanData)\n",
    "print(posts[\"title\"])\n",
    "print(\"xxxxxxxxxxxxxxxxxxxxxxxxxxxx BREAK xxxxxxxxxxxxxxxxxxxxxxx\")\n",
    "print(posts[\"textBody\"])\n",
    "print(\"xxxxxxxxxxxxxxxxxxxxxxxxxxxx BREAK xxxxxxxxxxxxxxxxxxxxxxx\")\n",
    "print(posts[\"comments\"])\n",
    "del posts[\"_id\"]\n",
    "posts.to_csv('../data/cleansedData300.csv',index=False)#300 post data in cleansedData"
   ]
  },
  {
   "cell_type": "code",
   "execution_count": null,
   "metadata": {},
   "outputs": [],
   "source": []
  }
 ],
 "metadata": {
  "kernelspec": {
   "display_name": "Python 3",
   "language": "python",
   "name": "python3"
  },
  "language_info": {
   "codemirror_mode": {
    "name": "ipython",
    "version": 3
   },
   "file_extension": ".py",
   "mimetype": "text/x-python",
   "name": "python",
   "nbconvert_exporter": "python",
   "pygments_lexer": "ipython3",
   "version": "3.6.9"
  }
 },
 "nbformat": 4,
 "nbformat_minor": 4
}
