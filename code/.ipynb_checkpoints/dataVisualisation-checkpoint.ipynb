{
 "cells": [
  {
   "cell_type": "code",
   "execution_count": 1,
   "metadata": {},
   "outputs": [],
   "source": [
    "import re\n",
    "import lxml\n",
    "import nltk\n",
    "import pandas as pd\n",
    "import pymongo\n",
    "from pymongo import MongoClient\n",
    "from bs4 import BeautifulSoup\n",
    "from nltk.tokenize import word_tokenize\n",
    "from nltk.tokenize import RegexpTokenizer\n",
    "from nltk.corpus import stopwords\n",
    "from sklearn.feature_extraction.text import CountVectorizer\n",
    "import seaborn as sns"
   ]
  },
  {
   "cell_type": "markdown",
   "metadata": {},
   "source": [
    "## Returns Top 10 words of a Corpus"
   ]
  },
  {
   "cell_type": "code",
   "execution_count": 2,
   "metadata": {},
   "outputs": [],
   "source": [
    "def topWords(corpus):\n",
    "    vec = CountVectorizer(ngram_range=(1, 1)).fit(corpus)\n",
    "    bag_of_words = vec.transform(corpus)\n",
    "    sum_words = bag_of_words.sum(axis=0)\n",
    "    words_freq = [(word, sum_words[0, idx]) \n",
    "                  for word, idx in vec.vocabulary_.items()]\n",
    "    words_freq =sorted(words_freq, key = lambda x: x[1], reverse=True)\n",
    "    print(words_freq[:10])\n",
    "    return words_freq[:10]"
   ]
  },
  {
   "cell_type": "markdown",
   "metadata": {},
   "source": [
    "## Connecting to MongoDB database"
   ]
  },
  {
   "cell_type": "code",
   "execution_count": 3,
   "metadata": {},
   "outputs": [],
   "source": [
    "mongo = MongoClient(\"mongodb://localhost:27017/\")\n",
    "db = mongo.reddit"
   ]
  },
  {
   "cell_type": "markdown",
   "metadata": {},
   "source": [
    "## Combining Title, Body and Comments of Uncleaned Data"
   ]
  },
  {
   "cell_type": "code",
   "execution_count": 4,
   "metadata": {
    "tags": [
     "outputPrepend"
    ]
   },
   "outputs": [],
   "source": [
    "posts = pd.DataFrame(list(db.srIndia.find()))\n",
    "del posts[\"_id\"]\n",
    "del posts[\"url\"]\n",
    "del posts[\"author\"]\n",
    "del posts[\"flair\"]\n",
    "del posts[\"authors\"]\n",
    "posts[\"combined\"] = posts[\"title\"]+posts[\"textBody\"]+posts[\"comments\"]"
   ]
  },
  {
   "cell_type": "markdown",
   "metadata": {},
   "source": [
    "## Observing Data"
   ]
  },
  {
   "cell_type": "code",
   "execution_count": 5,
   "metadata": {},
   "outputs": [
    {
     "data": {
      "text/html": [
       "<div>\n",
       "<style scoped>\n",
       "    .dataframe tbody tr th:only-of-type {\n",
       "        vertical-align: middle;\n",
       "    }\n",
       "\n",
       "    .dataframe tbody tr th {\n",
       "        vertical-align: top;\n",
       "    }\n",
       "\n",
       "    .dataframe thead th {\n",
       "        text-align: right;\n",
       "    }\n",
       "</style>\n",
       "<table border=\"1\" class=\"dataframe\">\n",
       "  <thead>\n",
       "    <tr style=\"text-align: right;\">\n",
       "      <th></th>\n",
       "      <th>title</th>\n",
       "      <th>textBody</th>\n",
       "      <th>comments</th>\n",
       "      <th>combined</th>\n",
       "    </tr>\n",
       "  </thead>\n",
       "  <tbody>\n",
       "    <tr>\n",
       "      <th>0</th>\n",
       "      <td>Late Night Random Discussion Thread !</td>\n",
       "      <td>^Beep ^Boop ^Bot, ^I ^am ^a ^bot! ^if ^any ^pr...</td>\n",
       "      <td>My Dadi passed away today at 7 pm, she was not...</td>\n",
       "      <td>Late Night Random Discussion Thread !^Beep ^Bo...</td>\n",
       "    </tr>\n",
       "    <tr>\n",
       "      <th>1</th>\n",
       "      <td>Late Night Random Discussion Thread !</td>\n",
       "      <td>^Beep ^Boop ^Bot, ^I ^am ^a ^bot! ^if ^any ^pr...</td>\n",
       "      <td>[deleted] I’m having a cough since morning. Fe...</td>\n",
       "      <td>Late Night Random Discussion Thread !^Beep ^Bo...</td>\n",
       "    </tr>\n",
       "    <tr>\n",
       "      <th>2</th>\n",
       "      <td>Random Daily Discussion Thread - April 12, 202...</td>\n",
       "      <td>^Beep ^Boop ^Bot, ^I ^am ^a ^bot! ^if ^any ^pr...</td>\n",
       "      <td>My friends complaining about running out of da...</td>\n",
       "      <td>Random Daily Discussion Thread - April 12, 202...</td>\n",
       "    </tr>\n",
       "    <tr>\n",
       "      <th>3</th>\n",
       "      <td>Late Night Random Discussion Thread !</td>\n",
       "      <td>^Beep ^Boop ^Bot, ^I ^am ^a ^bot! ^if ^any ^pr...</td>\n",
       "      <td>Every time I come to this thread I realise how...</td>\n",
       "      <td>Late Night Random Discussion Thread !^Beep ^Bo...</td>\n",
       "    </tr>\n",
       "    <tr>\n",
       "      <th>4</th>\n",
       "      <td>Late Night Random Discussion Thread !</td>\n",
       "      <td>^Beep ^Boop ^Bot, ^I ^am ^a ^bot! ^if ^any ^pr...</td>\n",
       "      <td>Education minister of Maharashtra wants to tak...</td>\n",
       "      <td>Late Night Random Discussion Thread !^Beep ^Bo...</td>\n",
       "    </tr>\n",
       "    <tr>\n",
       "      <th>5</th>\n",
       "      <td>Late Night Random Discussion Thread !</td>\n",
       "      <td>^Beep ^Boop ^Bot, ^I ^am ^a ^bot! ^if ^any ^pr...</td>\n",
       "      <td>These days I'm helping my mom with her chores....</td>\n",
       "      <td>Late Night Random Discussion Thread !^Beep ^Bo...</td>\n",
       "    </tr>\n",
       "    <tr>\n",
       "      <th>6</th>\n",
       "      <td>Late Night Random Discussion Thread !</td>\n",
       "      <td>^Beep ^Boop ^Bot, ^I ^am ^a ^bot! ^if ^any ^pr...</td>\n",
       "      <td>Sometimes when I feel down, I play Azeem o sha...</td>\n",
       "      <td>Late Night Random Discussion Thread !^Beep ^Bo...</td>\n",
       "    </tr>\n",
       "    <tr>\n",
       "      <th>7</th>\n",
       "      <td>Late Night Random Discussion Thread !</td>\n",
       "      <td>^Beep ^Boop ^Bot, ^I ^am ^a ^bot! ^if ^any ^pr...</td>\n",
       "      <td>#How to take important decisions in life\\n\\nEv...</td>\n",
       "      <td>Late Night Random Discussion Thread !^Beep ^Bo...</td>\n",
       "    </tr>\n",
       "    <tr>\n",
       "      <th>8</th>\n",
       "      <td>Late Night Random Discussion Thread !</td>\n",
       "      <td>^Beep ^Boop ^Bot, ^I ^am ^a ^bot! ^if ^any ^pr...</td>\n",
       "      <td>Gets matched with a girl.\\nSends her a fucking...</td>\n",
       "      <td>Late Night Random Discussion Thread !^Beep ^Bo...</td>\n",
       "    </tr>\n",
       "    <tr>\n",
       "      <th>9</th>\n",
       "      <td>Random Daily Discussion Thread - April 10, 202...</td>\n",
       "      <td>^Beep ^Boop ^Bot, ^I ^am ^a ^bot! ^if ^any ^pr...</td>\n",
       "      <td>It’s honestly irritating af to sit on your ass...</td>\n",
       "      <td>Random Daily Discussion Thread - April 10, 202...</td>\n",
       "    </tr>\n",
       "    <tr>\n",
       "      <th>10</th>\n",
       "      <td>Late Night Random Discussion Thread !</td>\n",
       "      <td>^Beep ^Boop ^Bot, ^I ^am ^a ^bot! ^if ^any ^pr...</td>\n",
       "      <td>This severe pandemic has claimed many people's...</td>\n",
       "      <td>Late Night Random Discussion Thread !^Beep ^Bo...</td>\n",
       "    </tr>\n",
       "    <tr>\n",
       "      <th>11</th>\n",
       "      <td>Random Daily Discussion Thread - April 09, 202...</td>\n",
       "      <td>^Beep ^Boop ^Bot, ^I ^am ^a ^bot! ^if ^any ^pr...</td>\n",
       "      <td>So I just found out that our college might be ...</td>\n",
       "      <td>Random Daily Discussion Thread - April 09, 202...</td>\n",
       "    </tr>\n",
       "    <tr>\n",
       "      <th>12</th>\n",
       "      <td>Late Night Random Discussion Thread !</td>\n",
       "      <td>^Beep ^Boop ^Bot, ^I ^am ^a ^bot! ^if ^any ^pr...</td>\n",
       "      <td>[deleted] Next modi Announcement:-\\n\\nCorona s...</td>\n",
       "      <td>Late Night Random Discussion Thread !^Beep ^Bo...</td>\n",
       "    </tr>\n",
       "    <tr>\n",
       "      <th>13</th>\n",
       "      <td>Random Daily Discussion Thread - April 05, 202...</td>\n",
       "      <td>^Beep ^Boop ^Bot, ^I ^am ^a ^bot! ^if ^any ^pr...</td>\n",
       "      <td>Finished the dishes, jharu-ing and mopping. Su...</td>\n",
       "      <td>Random Daily Discussion Thread - April 05, 202...</td>\n",
       "    </tr>\n",
       "    <tr>\n",
       "      <th>14</th>\n",
       "      <td>Late Night Random Discussion Thread !</td>\n",
       "      <td>^Beep ^Boop ^Bot, ^I ^am ^a ^bot! ^if ^any ^pr...</td>\n",
       "      <td>Today I put a status on my whatsapp of some re...</td>\n",
       "      <td>Late Night Random Discussion Thread !^Beep ^Bo...</td>\n",
       "    </tr>\n",
       "    <tr>\n",
       "      <th>15</th>\n",
       "      <td>Random Daily Discussion Thread - April 14, 202...</td>\n",
       "      <td>^Beep ^Boop ^Bot, ^I ^am ^a ^bot! ^if ^any ^pr...</td>\n",
       "      <td>This thread is for casual discussion only. **N...</td>\n",
       "      <td>Random Daily Discussion Thread - April 14, 202...</td>\n",
       "    </tr>\n",
       "    <tr>\n",
       "      <th>16</th>\n",
       "      <td>Late Night Random Discussion Thread !</td>\n",
       "      <td>^Beep ^Boop ^Bot, ^I ^am ^a ^bot! ^if ^any ^pr...</td>\n",
       "      <td>[deleted] This thread is  one place where I se...</td>\n",
       "      <td>Late Night Random Discussion Thread !^Beep ^Bo...</td>\n",
       "    </tr>\n",
       "    <tr>\n",
       "      <th>17</th>\n",
       "      <td>Late Night Random Discussion Thread !</td>\n",
       "      <td>^Beep ^Boop ^Bot, ^I ^am ^a ^bot! ^if ^any ^pr...</td>\n",
       "      <td>In hopes of impressing a girl in 5th class\\n\\n...</td>\n",
       "      <td>Late Night Random Discussion Thread !^Beep ^Bo...</td>\n",
       "    </tr>\n",
       "    <tr>\n",
       "      <th>18</th>\n",
       "      <td>Late Night Random Discussion Thread !</td>\n",
       "      <td>^Beep ^Boop ^Bot, ^I ^am ^a ^bot! ^if ^any ^pr...</td>\n",
       "      <td>Tomorrow 9AM PM Mudi G is going to address the...</td>\n",
       "      <td>Late Night Random Discussion Thread !^Beep ^Bo...</td>\n",
       "    </tr>\n",
       "    <tr>\n",
       "      <th>19</th>\n",
       "      <td>Random Daily Discussion Thread - April 13, 202...</td>\n",
       "      <td>^Beep ^Boop ^Bot, ^I ^am ^a ^bot! ^if ^any ^pr...</td>\n",
       "      <td>[DD Nostalgia](http://imgur.com/a/iNEuX52)\\n\\n...</td>\n",
       "      <td>Random Daily Discussion Thread - April 13, 202...</td>\n",
       "    </tr>\n",
       "    <tr>\n",
       "      <th>20</th>\n",
       "      <td>Random Daily Discussion Thread - March 31, 202...</td>\n",
       "      <td>^Beep ^Boop ^Bot, ^I ^am ^a ^bot! ^if ^any ^pr...</td>\n",
       "      <td>My friend decided to graduate from USA after w...</td>\n",
       "      <td>Random Daily Discussion Thread - March 31, 202...</td>\n",
       "    </tr>\n",
       "    <tr>\n",
       "      <th>21</th>\n",
       "      <td>Random Daily Discussion Thread - April 07, 202...</td>\n",
       "      <td>^Beep ^Boop ^Bot, ^I ^am ^a ^bot! ^if ^any ^pr...</td>\n",
       "      <td>Ek baar Gordon Ramsey ki video dekh Josh Josh ...</td>\n",
       "      <td>Random Daily Discussion Thread - April 07, 202...</td>\n",
       "    </tr>\n",
       "    <tr>\n",
       "      <th>22</th>\n",
       "      <td>Random Daily Discussion Thread - April 01, 202...</td>\n",
       "      <td>^Beep ^Boop ^Bot, ^I ^am ^a ^bot! ^if ^any ^pr...</td>\n",
       "      <td>[TheDosaman ](https://ibb.co/1J529XR)\\n\\n[Rhea...</td>\n",
       "      <td>Random Daily Discussion Thread - April 01, 202...</td>\n",
       "    </tr>\n",
       "    <tr>\n",
       "      <th>23</th>\n",
       "      <td>Random Daily Discussion Thread - April 08, 202...</td>\n",
       "      <td>^Beep ^Boop ^Bot, ^I ^am ^a ^bot! ^if ^any ^pr...</td>\n",
       "      <td>seeing eatsleeprepeat, I too finally got motiv...</td>\n",
       "      <td>Random Daily Discussion Thread - April 08, 202...</td>\n",
       "    </tr>\n",
       "    <tr>\n",
       "      <th>24</th>\n",
       "      <td>Random Daily Discussion Thread - April 11, 202...</td>\n",
       "      <td>^Beep ^Boop ^Bot, ^I ^am ^a ^bot! ^if ^any ^pr...</td>\n",
       "      <td>probably I'm late to join the conversation but...</td>\n",
       "      <td>Random Daily Discussion Thread - April 11, 202...</td>\n",
       "    </tr>\n",
       "    <tr>\n",
       "      <th>25</th>\n",
       "      <td>Random Daily Discussion Thread - March 30, 202...</td>\n",
       "      <td>^Beep ^Boop ^Bot, ^I ^am ^a ^bot! ^if ^any ^pr...</td>\n",
       "      <td>Na left wing , na right wing.\\n\\nMujhe chahiye...</td>\n",
       "      <td>Random Daily Discussion Thread - March 30, 202...</td>\n",
       "    </tr>\n",
       "    <tr>\n",
       "      <th>26</th>\n",
       "      <td>Late Night Random Discussion Thread !</td>\n",
       "      <td>^Beep ^Boop ^Bot, ^I ^am ^a ^bot! ^if ^any ^pr...</td>\n",
       "      <td>Hello guiz, aaj workout karte hue mujhe laga m...</td>\n",
       "      <td>Late Night Random Discussion Thread !^Beep ^Bo...</td>\n",
       "    </tr>\n",
       "    <tr>\n",
       "      <th>27</th>\n",
       "      <td>Random Daily Discussion Thread - April 04, 202...</td>\n",
       "      <td>^Beep ^Boop ^Bot, ^I ^am ^a ^bot! ^if ^any ^pr...</td>\n",
       "      <td>When you wash your hands you are actually just...</td>\n",
       "      <td>Random Daily Discussion Thread - April 04, 202...</td>\n",
       "    </tr>\n",
       "    <tr>\n",
       "      <th>28</th>\n",
       "      <td>Random Daily Discussion Thread - April 03, 202...</td>\n",
       "      <td>^Beep ^Boop ^Bot, ^I ^am ^a ^bot! ^if ^any ^pr...</td>\n",
       "      <td>Last time when Modi asked to clap for 5 minute...</td>\n",
       "      <td>Random Daily Discussion Thread - April 03, 202...</td>\n",
       "    </tr>\n",
       "    <tr>\n",
       "      <th>29</th>\n",
       "      <td>Late Night Random Discussion Thread !</td>\n",
       "      <td>^Beep ^Boop ^Bot, ^I ^am ^a ^bot! ^if ^any ^pr...</td>\n",
       "      <td>I really want this to end so I don't lose my j...</td>\n",
       "      <td>Late Night Random Discussion Thread !^Beep ^Bo...</td>\n",
       "    </tr>\n",
       "    <tr>\n",
       "      <th>30</th>\n",
       "      <td>Random Daily Discussion Thread - March 27, 202...</td>\n",
       "      <td>^Beep ^Boop ^Bot, ^I ^am ^a ^bot! ^if ^any ^pr...</td>\n",
       "      <td>**My First Time Cooking**\\n\\nI was around 6-7 ...</td>\n",
       "      <td>Random Daily Discussion Thread - March 27, 202...</td>\n",
       "    </tr>\n",
       "    <tr>\n",
       "      <th>31</th>\n",
       "      <td>Random Daily Discussion Thread - April 06, 202...</td>\n",
       "      <td>^Beep ^Boop ^Bot, ^I ^am ^a ^bot! ^if ^any ^pr...</td>\n",
       "      <td>Online classes main ek banda hai jo sabka maza...</td>\n",
       "      <td>Random Daily Discussion Thread - April 06, 202...</td>\n",
       "    </tr>\n",
       "    <tr>\n",
       "      <th>32</th>\n",
       "      <td>Late Night Random Discussion Thread !</td>\n",
       "      <td>^Beep ^Boop ^Bot, ^I ^am ^a ^bot! ^if ^any ^pr...</td>\n",
       "      <td>This thread is for casual discussion only. **N...</td>\n",
       "      <td>Late Night Random Discussion Thread !^Beep ^Bo...</td>\n",
       "    </tr>\n",
       "    <tr>\n",
       "      <th>33</th>\n",
       "      <td>Random Daily Discussion Thread - March 26, 202...</td>\n",
       "      <td>^Beep ^Boop ^Bot, ^I ^am ^a ^bot! ^if ^any ^pr...</td>\n",
       "      <td>Sab itna thoos rahe quarantine mei, 21 din baa...</td>\n",
       "      <td>Random Daily Discussion Thread - March 26, 202...</td>\n",
       "    </tr>\n",
       "    <tr>\n",
       "      <th>34</th>\n",
       "      <td>Random Daily Discussion Thread - April 02, 202...</td>\n",
       "      <td>^Beep ^Boop ^Bot, ^I ^am ^a ^bot! ^if ^any ^pr...</td>\n",
       "      <td>TIL \\n\\nChik shampoo manufacturers who revolut...</td>\n",
       "      <td>Random Daily Discussion Thread - April 02, 202...</td>\n",
       "    </tr>\n",
       "    <tr>\n",
       "      <th>35</th>\n",
       "      <td>Late Night Random Discussion Thread !</td>\n",
       "      <td>^Beep ^Boop ^Bot, ^I ^am ^a ^bot! ^if ^any ^pr...</td>\n",
       "      <td>#Day 2\\n\\nNot doing anything and staying at ho...</td>\n",
       "      <td>Late Night Random Discussion Thread !^Beep ^Bo...</td>\n",
       "    </tr>\n",
       "    <tr>\n",
       "      <th>36</th>\n",
       "      <td>Late Night Random Discussion Thread !</td>\n",
       "      <td>Sorry for being late. Bot did not run today fo...</td>\n",
       "      <td>This thread is for casual discussion only. **N...</td>\n",
       "      <td>Late Night Random Discussion Thread !Sorry for...</td>\n",
       "    </tr>\n",
       "    <tr>\n",
       "      <th>37</th>\n",
       "      <td>Late Night Random Discussion Thread !</td>\n",
       "      <td>^Beep ^Boop ^Bot, ^I ^am ^a ^bot! ^if ^any ^pr...</td>\n",
       "      <td>[meet my babies](https://ibb.co/bXvL4VY) Saw a...</td>\n",
       "      <td>Late Night Random Discussion Thread !^Beep ^Bo...</td>\n",
       "    </tr>\n",
       "    <tr>\n",
       "      <th>38</th>\n",
       "      <td>Random Daily Discussion Thread - March 22, 202...</td>\n",
       "      <td>^Beep ^Boop ^Bot, ^I ^am ^a ^bot! ^if ^any ^pr...</td>\n",
       "      <td>Just had a friend call me on the phone &amp; bang ...</td>\n",
       "      <td>Random Daily Discussion Thread - March 22, 202...</td>\n",
       "    </tr>\n",
       "    <tr>\n",
       "      <th>39</th>\n",
       "      <td>Random Daily Discussion Thread - March 28, 202...</td>\n",
       "      <td>^Beep ^Boop ^Bot, ^I ^am ^a ^bot! ^if ^any ^pr...</td>\n",
       "      <td>Aaj muth maarne ke mood se bathroom gaya, naha...</td>\n",
       "      <td>Random Daily Discussion Thread - March 28, 202...</td>\n",
       "    </tr>\n",
       "    <tr>\n",
       "      <th>40</th>\n",
       "      <td>Random Daily Discussion Thread - March 29, 202...</td>\n",
       "      <td>^Beep ^Boop ^Bot, ^I ^am ^a ^bot! ^if ^any ^pr...</td>\n",
       "      <td>People don't always need advice.\\nSometimes al...</td>\n",
       "      <td>Random Daily Discussion Thread - March 29, 202...</td>\n",
       "    </tr>\n",
       "    <tr>\n",
       "      <th>41</th>\n",
       "      <td>Late Night Random Discussion Thread !</td>\n",
       "      <td>^Beep ^Boop ^Bot, ^I ^am ^a ^bot! ^if ^any ^pr...</td>\n",
       "      <td>In my society after ten minutes of clapping an...</td>\n",
       "      <td>Late Night Random Discussion Thread !^Beep ^Bo...</td>\n",
       "    </tr>\n",
       "    <tr>\n",
       "      <th>42</th>\n",
       "      <td>Late Night Random Discussion Thread !</td>\n",
       "      <td>^Beep ^Boop ^Bot, ^I ^am ^a ^bot! ^if ^any ^pr...</td>\n",
       "      <td>When Modiji said \"Aaj raat 12 baje se\" each on...</td>\n",
       "      <td>Late Night Random Discussion Thread !^Beep ^Bo...</td>\n",
       "    </tr>\n",
       "    <tr>\n",
       "      <th>43</th>\n",
       "      <td>Late Night Random Discussion Thread !</td>\n",
       "      <td>^Beep ^Boop ^Bot, ^I ^am ^a ^bot! ^if ^any ^pr...</td>\n",
       "      <td>Was discussing about lockdown in India due to ...</td>\n",
       "      <td>Late Night Random Discussion Thread !^Beep ^Bo...</td>\n",
       "    </tr>\n",
       "    <tr>\n",
       "      <th>44</th>\n",
       "      <td>Random Daily Discussion Thread - March 23, 202...</td>\n",
       "      <td>^Beep ^Boop ^Bot, ^I ^am ^a ^bot! ^if ^any ^pr...</td>\n",
       "      <td>I just watched cousin taking his classes via z...</td>\n",
       "      <td>Random Daily Discussion Thread - March 23, 202...</td>\n",
       "    </tr>\n",
       "    <tr>\n",
       "      <th>45</th>\n",
       "      <td>Late Night Random Discussion Thread !</td>\n",
       "      <td>^Beep ^Boop ^Bot, ^I ^am ^a ^bot! ^if ^any ^pr...</td>\n",
       "      <td>I urged my buddy ( not from the circle )... To...</td>\n",
       "      <td>Late Night Random Discussion Thread !^Beep ^Bo...</td>\n",
       "    </tr>\n",
       "    <tr>\n",
       "      <th>46</th>\n",
       "      <td>Late Night Random Discussion Thread !</td>\n",
       "      <td>^Beep ^Boop ^Bot, ^I ^am ^a ^bot! ^if ^any ^pr...</td>\n",
       "      <td>As a perennially introverted homebody, my fami...</td>\n",
       "      <td>Late Night Random Discussion Thread !^Beep ^Bo...</td>\n",
       "    </tr>\n",
       "    <tr>\n",
       "      <th>47</th>\n",
       "      <td>Late Night Random Discussion Thread !</td>\n",
       "      <td>^Beep ^Boop ^Bot, ^I ^am ^a ^bot! ^if ^any ^pr...</td>\n",
       "      <td>Life me kahi first na aaye to kya. Aaj is thre...</td>\n",
       "      <td>Late Night Random Discussion Thread !^Beep ^Bo...</td>\n",
       "    </tr>\n",
       "    <tr>\n",
       "      <th>48</th>\n",
       "      <td>Late Night Random Discussion Thread !</td>\n",
       "      <td>^Beep ^Boop ^Bot, ^I ^am ^a ^bot! ^if ^any ^pr...</td>\n",
       "      <td>[deleted] Aaj mujhe groceries lene jaana pada,...</td>\n",
       "      <td>Late Night Random Discussion Thread !^Beep ^Bo...</td>\n",
       "    </tr>\n",
       "    <tr>\n",
       "      <th>49</th>\n",
       "      <td>Random Daily Discussion Thread - March 25, 202...</td>\n",
       "      <td>^Beep ^Boop ^Bot, ^I ^am ^a ^bot! ^if ^any ^pr...</td>\n",
       "      <td>When your parents want to marry you off so bad...</td>\n",
       "      <td>Random Daily Discussion Thread - March 25, 202...</td>\n",
       "    </tr>\n",
       "  </tbody>\n",
       "</table>\n",
       "</div>"
      ],
      "text/plain": [
       "                                                title  \\\n",
       "0               Late Night Random Discussion Thread !   \n",
       "1               Late Night Random Discussion Thread !   \n",
       "2   Random Daily Discussion Thread - April 12, 202...   \n",
       "3               Late Night Random Discussion Thread !   \n",
       "4               Late Night Random Discussion Thread !   \n",
       "5               Late Night Random Discussion Thread !   \n",
       "6               Late Night Random Discussion Thread !   \n",
       "7               Late Night Random Discussion Thread !   \n",
       "8               Late Night Random Discussion Thread !   \n",
       "9   Random Daily Discussion Thread - April 10, 202...   \n",
       "10              Late Night Random Discussion Thread !   \n",
       "11  Random Daily Discussion Thread - April 09, 202...   \n",
       "12              Late Night Random Discussion Thread !   \n",
       "13  Random Daily Discussion Thread - April 05, 202...   \n",
       "14              Late Night Random Discussion Thread !   \n",
       "15  Random Daily Discussion Thread - April 14, 202...   \n",
       "16              Late Night Random Discussion Thread !   \n",
       "17              Late Night Random Discussion Thread !   \n",
       "18              Late Night Random Discussion Thread !   \n",
       "19  Random Daily Discussion Thread - April 13, 202...   \n",
       "20  Random Daily Discussion Thread - March 31, 202...   \n",
       "21  Random Daily Discussion Thread - April 07, 202...   \n",
       "22  Random Daily Discussion Thread - April 01, 202...   \n",
       "23  Random Daily Discussion Thread - April 08, 202...   \n",
       "24  Random Daily Discussion Thread - April 11, 202...   \n",
       "25  Random Daily Discussion Thread - March 30, 202...   \n",
       "26              Late Night Random Discussion Thread !   \n",
       "27  Random Daily Discussion Thread - April 04, 202...   \n",
       "28  Random Daily Discussion Thread - April 03, 202...   \n",
       "29              Late Night Random Discussion Thread !   \n",
       "30  Random Daily Discussion Thread - March 27, 202...   \n",
       "31  Random Daily Discussion Thread - April 06, 202...   \n",
       "32              Late Night Random Discussion Thread !   \n",
       "33  Random Daily Discussion Thread - March 26, 202...   \n",
       "34  Random Daily Discussion Thread - April 02, 202...   \n",
       "35              Late Night Random Discussion Thread !   \n",
       "36              Late Night Random Discussion Thread !   \n",
       "37              Late Night Random Discussion Thread !   \n",
       "38  Random Daily Discussion Thread - March 22, 202...   \n",
       "39  Random Daily Discussion Thread - March 28, 202...   \n",
       "40  Random Daily Discussion Thread - March 29, 202...   \n",
       "41              Late Night Random Discussion Thread !   \n",
       "42              Late Night Random Discussion Thread !   \n",
       "43              Late Night Random Discussion Thread !   \n",
       "44  Random Daily Discussion Thread - March 23, 202...   \n",
       "45              Late Night Random Discussion Thread !   \n",
       "46              Late Night Random Discussion Thread !   \n",
       "47              Late Night Random Discussion Thread !   \n",
       "48              Late Night Random Discussion Thread !   \n",
       "49  Random Daily Discussion Thread - March 25, 202...   \n",
       "\n",
       "                                             textBody  \\\n",
       "0   ^Beep ^Boop ^Bot, ^I ^am ^a ^bot! ^if ^any ^pr...   \n",
       "1   ^Beep ^Boop ^Bot, ^I ^am ^a ^bot! ^if ^any ^pr...   \n",
       "2   ^Beep ^Boop ^Bot, ^I ^am ^a ^bot! ^if ^any ^pr...   \n",
       "3   ^Beep ^Boop ^Bot, ^I ^am ^a ^bot! ^if ^any ^pr...   \n",
       "4   ^Beep ^Boop ^Bot, ^I ^am ^a ^bot! ^if ^any ^pr...   \n",
       "5   ^Beep ^Boop ^Bot, ^I ^am ^a ^bot! ^if ^any ^pr...   \n",
       "6   ^Beep ^Boop ^Bot, ^I ^am ^a ^bot! ^if ^any ^pr...   \n",
       "7   ^Beep ^Boop ^Bot, ^I ^am ^a ^bot! ^if ^any ^pr...   \n",
       "8   ^Beep ^Boop ^Bot, ^I ^am ^a ^bot! ^if ^any ^pr...   \n",
       "9   ^Beep ^Boop ^Bot, ^I ^am ^a ^bot! ^if ^any ^pr...   \n",
       "10  ^Beep ^Boop ^Bot, ^I ^am ^a ^bot! ^if ^any ^pr...   \n",
       "11  ^Beep ^Boop ^Bot, ^I ^am ^a ^bot! ^if ^any ^pr...   \n",
       "12  ^Beep ^Boop ^Bot, ^I ^am ^a ^bot! ^if ^any ^pr...   \n",
       "13  ^Beep ^Boop ^Bot, ^I ^am ^a ^bot! ^if ^any ^pr...   \n",
       "14  ^Beep ^Boop ^Bot, ^I ^am ^a ^bot! ^if ^any ^pr...   \n",
       "15  ^Beep ^Boop ^Bot, ^I ^am ^a ^bot! ^if ^any ^pr...   \n",
       "16  ^Beep ^Boop ^Bot, ^I ^am ^a ^bot! ^if ^any ^pr...   \n",
       "17  ^Beep ^Boop ^Bot, ^I ^am ^a ^bot! ^if ^any ^pr...   \n",
       "18  ^Beep ^Boop ^Bot, ^I ^am ^a ^bot! ^if ^any ^pr...   \n",
       "19  ^Beep ^Boop ^Bot, ^I ^am ^a ^bot! ^if ^any ^pr...   \n",
       "20  ^Beep ^Boop ^Bot, ^I ^am ^a ^bot! ^if ^any ^pr...   \n",
       "21  ^Beep ^Boop ^Bot, ^I ^am ^a ^bot! ^if ^any ^pr...   \n",
       "22  ^Beep ^Boop ^Bot, ^I ^am ^a ^bot! ^if ^any ^pr...   \n",
       "23  ^Beep ^Boop ^Bot, ^I ^am ^a ^bot! ^if ^any ^pr...   \n",
       "24  ^Beep ^Boop ^Bot, ^I ^am ^a ^bot! ^if ^any ^pr...   \n",
       "25  ^Beep ^Boop ^Bot, ^I ^am ^a ^bot! ^if ^any ^pr...   \n",
       "26  ^Beep ^Boop ^Bot, ^I ^am ^a ^bot! ^if ^any ^pr...   \n",
       "27  ^Beep ^Boop ^Bot, ^I ^am ^a ^bot! ^if ^any ^pr...   \n",
       "28  ^Beep ^Boop ^Bot, ^I ^am ^a ^bot! ^if ^any ^pr...   \n",
       "29  ^Beep ^Boop ^Bot, ^I ^am ^a ^bot! ^if ^any ^pr...   \n",
       "30  ^Beep ^Boop ^Bot, ^I ^am ^a ^bot! ^if ^any ^pr...   \n",
       "31  ^Beep ^Boop ^Bot, ^I ^am ^a ^bot! ^if ^any ^pr...   \n",
       "32  ^Beep ^Boop ^Bot, ^I ^am ^a ^bot! ^if ^any ^pr...   \n",
       "33  ^Beep ^Boop ^Bot, ^I ^am ^a ^bot! ^if ^any ^pr...   \n",
       "34  ^Beep ^Boop ^Bot, ^I ^am ^a ^bot! ^if ^any ^pr...   \n",
       "35  ^Beep ^Boop ^Bot, ^I ^am ^a ^bot! ^if ^any ^pr...   \n",
       "36  Sorry for being late. Bot did not run today fo...   \n",
       "37  ^Beep ^Boop ^Bot, ^I ^am ^a ^bot! ^if ^any ^pr...   \n",
       "38  ^Beep ^Boop ^Bot, ^I ^am ^a ^bot! ^if ^any ^pr...   \n",
       "39  ^Beep ^Boop ^Bot, ^I ^am ^a ^bot! ^if ^any ^pr...   \n",
       "40  ^Beep ^Boop ^Bot, ^I ^am ^a ^bot! ^if ^any ^pr...   \n",
       "41  ^Beep ^Boop ^Bot, ^I ^am ^a ^bot! ^if ^any ^pr...   \n",
       "42  ^Beep ^Boop ^Bot, ^I ^am ^a ^bot! ^if ^any ^pr...   \n",
       "43  ^Beep ^Boop ^Bot, ^I ^am ^a ^bot! ^if ^any ^pr...   \n",
       "44  ^Beep ^Boop ^Bot, ^I ^am ^a ^bot! ^if ^any ^pr...   \n",
       "45  ^Beep ^Boop ^Bot, ^I ^am ^a ^bot! ^if ^any ^pr...   \n",
       "46  ^Beep ^Boop ^Bot, ^I ^am ^a ^bot! ^if ^any ^pr...   \n",
       "47  ^Beep ^Boop ^Bot, ^I ^am ^a ^bot! ^if ^any ^pr...   \n",
       "48  ^Beep ^Boop ^Bot, ^I ^am ^a ^bot! ^if ^any ^pr...   \n",
       "49  ^Beep ^Boop ^Bot, ^I ^am ^a ^bot! ^if ^any ^pr...   \n",
       "\n",
       "                                             comments  \\\n",
       "0   My Dadi passed away today at 7 pm, she was not...   \n",
       "1   [deleted] I’m having a cough since morning. Fe...   \n",
       "2   My friends complaining about running out of da...   \n",
       "3   Every time I come to this thread I realise how...   \n",
       "4   Education minister of Maharashtra wants to tak...   \n",
       "5   These days I'm helping my mom with her chores....   \n",
       "6   Sometimes when I feel down, I play Azeem o sha...   \n",
       "7   #How to take important decisions in life\\n\\nEv...   \n",
       "8   Gets matched with a girl.\\nSends her a fucking...   \n",
       "9   It’s honestly irritating af to sit on your ass...   \n",
       "10  This severe pandemic has claimed many people's...   \n",
       "11  So I just found out that our college might be ...   \n",
       "12  [deleted] Next modi Announcement:-\\n\\nCorona s...   \n",
       "13  Finished the dishes, jharu-ing and mopping. Su...   \n",
       "14  Today I put a status on my whatsapp of some re...   \n",
       "15  This thread is for casual discussion only. **N...   \n",
       "16  [deleted] This thread is  one place where I se...   \n",
       "17  In hopes of impressing a girl in 5th class\\n\\n...   \n",
       "18  Tomorrow 9AM PM Mudi G is going to address the...   \n",
       "19  [DD Nostalgia](http://imgur.com/a/iNEuX52)\\n\\n...   \n",
       "20  My friend decided to graduate from USA after w...   \n",
       "21  Ek baar Gordon Ramsey ki video dekh Josh Josh ...   \n",
       "22  [TheDosaman ](https://ibb.co/1J529XR)\\n\\n[Rhea...   \n",
       "23  seeing eatsleeprepeat, I too finally got motiv...   \n",
       "24  probably I'm late to join the conversation but...   \n",
       "25  Na left wing , na right wing.\\n\\nMujhe chahiye...   \n",
       "26  Hello guiz, aaj workout karte hue mujhe laga m...   \n",
       "27  When you wash your hands you are actually just...   \n",
       "28  Last time when Modi asked to clap for 5 minute...   \n",
       "29  I really want this to end so I don't lose my j...   \n",
       "30  **My First Time Cooking**\\n\\nI was around 6-7 ...   \n",
       "31  Online classes main ek banda hai jo sabka maza...   \n",
       "32  This thread is for casual discussion only. **N...   \n",
       "33  Sab itna thoos rahe quarantine mei, 21 din baa...   \n",
       "34  TIL \\n\\nChik shampoo manufacturers who revolut...   \n",
       "35  #Day 2\\n\\nNot doing anything and staying at ho...   \n",
       "36  This thread is for casual discussion only. **N...   \n",
       "37  [meet my babies](https://ibb.co/bXvL4VY) Saw a...   \n",
       "38  Just had a friend call me on the phone & bang ...   \n",
       "39  Aaj muth maarne ke mood se bathroom gaya, naha...   \n",
       "40  People don't always need advice.\\nSometimes al...   \n",
       "41  In my society after ten minutes of clapping an...   \n",
       "42  When Modiji said \"Aaj raat 12 baje se\" each on...   \n",
       "43  Was discussing about lockdown in India due to ...   \n",
       "44  I just watched cousin taking his classes via z...   \n",
       "45  I urged my buddy ( not from the circle )... To...   \n",
       "46  As a perennially introverted homebody, my fami...   \n",
       "47  Life me kahi first na aaye to kya. Aaj is thre...   \n",
       "48  [deleted] Aaj mujhe groceries lene jaana pada,...   \n",
       "49  When your parents want to marry you off so bad...   \n",
       "\n",
       "                                             combined  \n",
       "0   Late Night Random Discussion Thread !^Beep ^Bo...  \n",
       "1   Late Night Random Discussion Thread !^Beep ^Bo...  \n",
       "2   Random Daily Discussion Thread - April 12, 202...  \n",
       "3   Late Night Random Discussion Thread !^Beep ^Bo...  \n",
       "4   Late Night Random Discussion Thread !^Beep ^Bo...  \n",
       "5   Late Night Random Discussion Thread !^Beep ^Bo...  \n",
       "6   Late Night Random Discussion Thread !^Beep ^Bo...  \n",
       "7   Late Night Random Discussion Thread !^Beep ^Bo...  \n",
       "8   Late Night Random Discussion Thread !^Beep ^Bo...  \n",
       "9   Random Daily Discussion Thread - April 10, 202...  \n",
       "10  Late Night Random Discussion Thread !^Beep ^Bo...  \n",
       "11  Random Daily Discussion Thread - April 09, 202...  \n",
       "12  Late Night Random Discussion Thread !^Beep ^Bo...  \n",
       "13  Random Daily Discussion Thread - April 05, 202...  \n",
       "14  Late Night Random Discussion Thread !^Beep ^Bo...  \n",
       "15  Random Daily Discussion Thread - April 14, 202...  \n",
       "16  Late Night Random Discussion Thread !^Beep ^Bo...  \n",
       "17  Late Night Random Discussion Thread !^Beep ^Bo...  \n",
       "18  Late Night Random Discussion Thread !^Beep ^Bo...  \n",
       "19  Random Daily Discussion Thread - April 13, 202...  \n",
       "20  Random Daily Discussion Thread - March 31, 202...  \n",
       "21  Random Daily Discussion Thread - April 07, 202...  \n",
       "22  Random Daily Discussion Thread - April 01, 202...  \n",
       "23  Random Daily Discussion Thread - April 08, 202...  \n",
       "24  Random Daily Discussion Thread - April 11, 202...  \n",
       "25  Random Daily Discussion Thread - March 30, 202...  \n",
       "26  Late Night Random Discussion Thread !^Beep ^Bo...  \n",
       "27  Random Daily Discussion Thread - April 04, 202...  \n",
       "28  Random Daily Discussion Thread - April 03, 202...  \n",
       "29  Late Night Random Discussion Thread !^Beep ^Bo...  \n",
       "30  Random Daily Discussion Thread - March 27, 202...  \n",
       "31  Random Daily Discussion Thread - April 06, 202...  \n",
       "32  Late Night Random Discussion Thread !^Beep ^Bo...  \n",
       "33  Random Daily Discussion Thread - March 26, 202...  \n",
       "34  Random Daily Discussion Thread - April 02, 202...  \n",
       "35  Late Night Random Discussion Thread !^Beep ^Bo...  \n",
       "36  Late Night Random Discussion Thread !Sorry for...  \n",
       "37  Late Night Random Discussion Thread !^Beep ^Bo...  \n",
       "38  Random Daily Discussion Thread - March 22, 202...  \n",
       "39  Random Daily Discussion Thread - March 28, 202...  \n",
       "40  Random Daily Discussion Thread - March 29, 202...  \n",
       "41  Late Night Random Discussion Thread !^Beep ^Bo...  \n",
       "42  Late Night Random Discussion Thread !^Beep ^Bo...  \n",
       "43  Late Night Random Discussion Thread !^Beep ^Bo...  \n",
       "44  Random Daily Discussion Thread - March 23, 202...  \n",
       "45  Late Night Random Discussion Thread !^Beep ^Bo...  \n",
       "46  Late Night Random Discussion Thread !^Beep ^Bo...  \n",
       "47  Late Night Random Discussion Thread !^Beep ^Bo...  \n",
       "48  Late Night Random Discussion Thread !^Beep ^Bo...  \n",
       "49  Random Daily Discussion Thread - March 25, 202...  "
      ]
     },
     "execution_count": 5,
     "metadata": {},
     "output_type": "execute_result"
    }
   ],
   "source": [
    "posts.head(50)"
   ]
  },
  {
   "cell_type": "markdown",
   "metadata": {},
   "source": [
    "## Plotting top 10 words of each Flair"
   ]
  },
  {
   "cell_type": "code",
   "execution_count": 6,
   "metadata": {},
   "outputs": [
    {
     "name": "stdout",
     "output_type": "stream",
     "text": [
      "[('to', 1018), ('the', 1004), ('and', 890), ('my', 658), ('of', 561), ('in', 504), ('me', 496), ('is', 430), ('you', 426), ('it', 422)]\n"
     ]
    },
    {
     "data": {
      "text/plain": [
       "<matplotlib.axes._subplots.AxesSubplot at 0x7fc48c126fd0>"
      ]
     },
     "execution_count": 6,
     "metadata": {},
     "output_type": "execute_result"
    },
    {
     "data": {
      "image/png": "[encoded data removed]",
      "text/plain": [
       "<Figure size 432x288 with 1 Axes>"
      ]
     },
     "metadata": {
      "needs_background": "light"
     },
     "output_type": "display_data"
    }
   ],
   "source": [
    "scheduledUncleaned=topWords(posts[\"combined\"][:100])[:10]\n",
    "x,y=map(list,zip(*scheduledUncleaned))\n",
    "sns.barplot(x=y,y=x)"
   ]
  },
  {
   "cell_type": "code",
   "execution_count": 7,
   "metadata": {},
   "outputs": [
    {
     "name": "stdout",
     "output_type": "stream",
     "text": [
      "[('the', 1970), ('to', 1425), ('and', 1087), ('is', 975), ('of', 971), ('in', 753), ('this', 617), ('it', 594), ('that', 593), ('for', 491)]\n"
     ]
    },
    {
     "data": {
      "text/plain": [
       "<matplotlib.axes._subplots.AxesSubplot at 0x7fc487ce0080>"
      ]
     },
     "execution_count": 7,
     "metadata": {},
     "output_type": "execute_result"
    },
    {
     "data": {
      "image/png": "[encoded data removed]",
      "text/plain": [
       "<Figure size 432x288 with 1 Axes>"
      ]
     },
     "metadata": {
      "needs_background": "light"
     },
     "output_type": "display_data"
    }
   ],
   "source": [
    "politicsUncleaned=topWords(posts[\"combined\"][100:200])[:10]\n",
    "x,y=map(list,zip(*politicsUncleaned))\n",
    "sns.barplot(x=y,y=x)"
   ]
  },
  {
   "cell_type": "code",
   "execution_count": 8,
   "metadata": {},
   "outputs": [
    {
     "name": "stdout",
     "output_type": "stream",
     "text": [
      "[('the', 444), ('in', 233), ('to', 233), ('is', 219), ('of', 197), ('and', 186), ('this', 171), ('it', 140), ('you', 139), ('for', 94)]\n"
     ]
    },
    {
     "data": {
      "text/plain": [
       "<matplotlib.axes._subplots.AxesSubplot at 0x7fc48554fdd8>"
      ]
     },
     "execution_count": 8,
     "metadata": {},
     "output_type": "execute_result"
    },
    {
     "data": {
      "image/png": "[encoded data removed]",
      "text/plain": [
       "<Figure size 432x288 with 1 Axes>"
      ]
     },
     "metadata": {
      "needs_background": "light"
     },
     "output_type": "display_data"
    }
   ],
   "source": [
    "photographyUncleaned=topWords(posts[\"combined\"][200:300])[:10]\n",
    "x,y=map(list,zip(*photographyUncleaned))\n",
    "sns.barplot(x=y,y=x)"
   ]
  },
  {
   "cell_type": "code",
   "execution_count": 9,
   "metadata": {},
   "outputs": [
    {
     "name": "stdout",
     "output_type": "stream",
     "text": [
      "[('the', 1823), ('to', 1312), ('and', 1014), ('of', 1010), ('in', 737), ('is', 654), ('it', 476), ('for', 467), ('this', 446), ('that', 404)]\n"
     ]
    },
    {
     "data": {
      "text/plain": [
       "<matplotlib.axes._subplots.AxesSubplot at 0x7fc4855a4c18>"
      ]
     },
     "execution_count": 9,
     "metadata": {},
     "output_type": "execute_result"
    },
    {
     "data": {
      "image/png": "[encoded data removed]",
      "text/plain": [
       "<Figure size 432x288 with 1 Axes>"
      ]
     },
     "metadata": {
      "needs_background": "light"
     },
     "output_type": "display_data"
    }
   ],
   "source": [
    "policyEconomyUncleaned=topWords(posts[\"combined\"][300:400])[:10]\n",
    "x,y=map(list,zip(*policyEconomyUncleaned))\n",
    "sns.barplot(x=y,y=x)"
   ]
  },
  {
   "cell_type": "code",
   "execution_count": 10,
   "metadata": {},
   "outputs": [
    {
     "name": "stdout",
     "output_type": "stream",
     "text": [
      "[('the', 2340), ('to', 2259), ('and', 1977), ('you', 1602), ('of', 1252), ('in', 1223), ('is', 1131), ('it', 1119), ('for', 871), ('that', 818)]\n"
     ]
    },
    {
     "data": {
      "text/plain": [
       "<matplotlib.axes._subplots.AxesSubplot at 0x7fc4855354a8>"
      ]
     },
     "execution_count": 10,
     "metadata": {},
     "output_type": "execute_result"
    },
    {
     "data": {
      "image/png": "[encoded data removed]",
      "text/plain": [
       "<Figure size 432x288 with 1 Axes>"
      ]
     },
     "metadata": {
      "needs_background": "light"
     },
     "output_type": "display_data"
    }
   ],
   "source": [
    "askIndiaUncleaned=topWords(posts[\"combined\"][400:500])[:10]\n",
    "x,y=map(list,zip(*askIndiaUncleaned))\n",
    "sns.barplot(x=y,y=x)"
   ]
  },
  {
   "cell_type": "code",
   "execution_count": 11,
   "metadata": {},
   "outputs": [
    {
     "name": "stdout",
     "output_type": "stream",
     "text": [
      "[('the', 390), ('to', 264), ('and', 218), ('in', 211), ('of', 172), ('is', 161), ('it', 122), ('for', 114), ('that', 101), ('this', 91)]\n"
     ]
    },
    {
     "data": {
      "text/plain": [
       "<matplotlib.axes._subplots.AxesSubplot at 0x7fc485534710>"
      ]
     },
     "execution_count": 11,
     "metadata": {},
     "output_type": "execute_result"
    },
    {
     "data": {
      "image/png": "[encoded data removed]",
      "text/plain": [
       "<Figure size 432x288 with 1 Axes>"
      ]
     },
     "metadata": {
      "needs_background": "light"
     },
     "output_type": "display_data"
    }
   ],
   "source": [
    "sportsUncleaned=topWords(posts[\"combined\"][500:600])[:10]\n",
    "x,y=map(list,zip(*sportsUncleaned))\n",
    "sns.barplot(x=y,y=x)"
   ]
  },
  {
   "cell_type": "code",
   "execution_count": 12,
   "metadata": {},
   "outputs": [
    {
     "name": "stdout",
     "output_type": "stream",
     "text": [
      "[('the', 1621), ('to', 1106), ('and', 972), ('of', 842), ('in', 709), ('is', 681), ('it', 599), ('this', 527), ('that', 440), ('for', 431)]\n"
     ]
    },
    {
     "data": {
      "text/plain": [
       "<matplotlib.axes._subplots.AxesSubplot at 0x7fc485364978>"
      ]
     },
     "execution_count": 12,
     "metadata": {},
     "output_type": "execute_result"
    },
    {
     "data": {
      "image/png": "[encoded data removed]",
      "text/plain": [
       "<Figure size 432x288 with 1 Axes>"
      ]
     },
     "metadata": {
      "needs_background": "light"
     },
     "output_type": "display_data"
    }
   ],
   "source": [
    "nonPoliticalUncleaned=topWords(posts[\"combined\"][600:700])[:10]\n",
    "x,y=map(list,zip(*nonPoliticalUncleaned))\n",
    "sns.barplot(x=y,y=x)"
   ]
  },
  {
   "cell_type": "code",
   "execution_count": 13,
   "metadata": {},
   "outputs": [
    {
     "name": "stdout",
     "output_type": "stream",
     "text": [
      "[('the', 981), ('to', 719), ('and', 577), ('of', 548), ('in', 512), ('is', 432), ('it', 358), ('https', 339), ('for', 300), ('com', 294)]\n"
     ]
    },
    {
     "data": {
      "text/plain": [
       "<matplotlib.axes._subplots.AxesSubplot at 0x7fc485291780>"
      ]
     },
     "execution_count": 13,
     "metadata": {},
     "output_type": "execute_result"
    },
    {
     "data": {
      "image/png": "[encoded data removed]",
      "text/plain": [
       "<Figure size 432x288 with 1 Axes>"
      ]
     },
     "metadata": {
      "needs_background": "light"
     },
     "output_type": "display_data"
    }
   ],
   "source": [
    "scienceTechUncleaned=topWords(posts[\"combined\"][700:800])[:10]\n",
    "x,y=map(list,zip(*scienceTechUncleaned))\n",
    "sns.barplot(x=y,y=x)"
   ]
  },
  {
   "cell_type": "code",
   "execution_count": 14,
   "metadata": {},
   "outputs": [
    {
     "name": "stdout",
     "output_type": "stream",
     "text": [
      "[('the', 783), ('to', 522), ('and', 519), ('of', 442), ('in', 426), ('it', 410), ('is', 381), ('you', 330), ('for', 225), ('this', 215)]\n"
     ]
    },
    {
     "data": {
      "text/plain": [
       "<matplotlib.axes._subplots.AxesSubplot at 0x7fc485222c88>"
      ]
     },
     "execution_count": 14,
     "metadata": {},
     "output_type": "execute_result"
    },
    {
     "data": {
      "image/png": "[encoded data removed]",
      "text/plain": [
       "<Figure size 432x288 with 1 Axes>"
      ]
     },
     "metadata": {
      "needs_background": "light"
     },
     "output_type": "display_data"
    }
   ],
   "source": [
    "foodUncleaned=topWords(posts[\"combined\"][800:900])[:10]\n",
    "x,y=map(list,zip(*foodUncleaned))\n",
    "sns.barplot(x=y,y=x)"
   ]
  },
  {
   "cell_type": "code",
   "execution_count": 15,
   "metadata": {},
   "outputs": [
    {
     "name": "stdout",
     "output_type": "stream",
     "text": [
      "[('the', 1144), ('to', 911), ('and', 641), ('of', 566), ('is', 524), ('in', 472), ('for', 402), ('you', 352), ('it', 348), ('that', 268)]\n"
     ]
    },
    {
     "data": {
      "text/plain": [
       "<matplotlib.axes._subplots.AxesSubplot at 0x7fc4852ce160>"
      ]
     },
     "execution_count": 15,
     "metadata": {},
     "output_type": "execute_result"
    },
    {
     "data": {
      "image/png": "[encoded data removed]",
      "text/plain": [
       "<Figure size 432x288 with 1 Axes>"
      ]
     },
     "metadata": {
      "needs_background": "light"
     },
     "output_type": "display_data"
    }
   ],
   "source": [
    "buisnessFinanceUncleaned=topWords(posts[\"combined\"][900:1000])[:10]\n",
    "x,y=map(list,zip(*buisnessFinanceUncleaned))\n",
    "sns.barplot(x=y,y=x)"
   ]
  },
  {
   "cell_type": "code",
   "execution_count": 16,
   "metadata": {},
   "outputs": [
    {
     "name": "stdout",
     "output_type": "stream",
     "text": [
      "[('the', 489), ('to', 355), ('of', 267), ('and', 241), ('in', 230), ('is', 165), ('that', 114), ('it', 107), ('for', 104), ('they', 103)]\n"
     ]
    },
    {
     "data": {
      "text/plain": [
       "<matplotlib.axes._subplots.AxesSubplot at 0x7fc48516cba8>"
      ]
     },
     "execution_count": 16,
     "metadata": {},
     "output_type": "execute_result"
    },
    {
     "data": {
      "image/png": "[encoded data removed]",
      "text/plain": [
       "<Figure size 432x288 with 1 Axes>"
      ]
     },
     "metadata": {
      "needs_background": "light"
     },
     "output_type": "display_data"
    }
   ],
   "source": [
    "coronavirusUncleaned=topWords(posts[\"combined\"][1000:1100])[:10]\n",
    "x,y=map(list,zip(*coronavirusUncleaned))\n",
    "sns.barplot(x=y,y=x)"
   ]
  }
 ],
 "metadata": {
  "kernelspec": {
   "display_name": "Python 3",
   "language": "python",
   "name": "python3"
  },
  "language_info": {
   "codemirror_mode": {
    "name": "ipython",
    "version": 3
   },
   "file_extension": ".py",
   "mimetype": "text/x-python",
   "name": "python",
   "nbconvert_exporter": "python",
   "pygments_lexer": "ipython3",
   "version": "3.6.9"
  }
 },
 "nbformat": 4,
 "nbformat_minor": 4
}
