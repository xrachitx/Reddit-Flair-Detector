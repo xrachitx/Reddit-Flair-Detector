{
 "cells": [
  {
   "cell_type": "code",
   "execution_count": 1,
   "metadata": {},
   "outputs": [],
   "source": [
    "import re\n",
    "import lxml\n",
    "import nltk\n",
    "import pandas as pd\n",
    "import pymongo\n",
    "from pymongo import MongoClient\n",
    "from bs4 import BeautifulSoup\n",
    "from nltk.tokenize import word_tokenize\n",
    "from nltk.tokenize import RegexpTokenizer\n",
    "from nltk.corpus import stopwords\n",
    "from sklearn.feature_extraction.text import CountVectorizer\n",
    "import seaborn as sns\n",
    "import csv\n",
    "from collections import Counter\n",
    "import spacy\n",
    "nlp = spacy.load(\"en_core_web_sm\")"
   ]
  },
  {
   "cell_type": "markdown",
   "metadata": {},
   "source": [
    "## Returns Data Frame for given Flair"
   ]
  },
  {
   "cell_type": "code",
   "execution_count": 2,
   "metadata": {},
   "outputs": [],
   "source": [
    "def flairToDataFrame(flair, flairList,combinedList,posts):\n",
    "    start = -1\n",
    "    end = -1\n",
    "    for i in range(len(flairList)):\n",
    "        if (flair==flairList[i]):\n",
    "            if start == -1:\n",
    "                start = i\n",
    "        else:\n",
    "            if start != -1:\n",
    "                end = i\n",
    "                break\n",
    "    return posts[\"combined\"][start:end]"
   ]
  },
  {
   "cell_type": "markdown",
   "metadata": {},
   "source": [
    "## Returns Top 10 words from Corpus"
   ]
  },
  {
   "cell_type": "code",
   "execution_count": 3,
   "metadata": {},
   "outputs": [],
   "source": [
    "def topWords(corpus):\n",
    "    vec = CountVectorizer(ngram_range=(1, 1)).fit(corpus)\n",
    "    bag_of_words = vec.transform(corpus)\n",
    "    sum_words = bag_of_words.sum(axis=0)\n",
    "    words_freq = [(word, sum_words[0, idx]) \n",
    "                  for word, idx in vec.vocabulary_.items()]\n",
    "    words_freq =sorted(words_freq, key = lambda x: x[1], reverse=True)\n",
    "    print(words_freq[:10])\n",
    "    return words_freq[:10]"
   ]
  },
  {
   "cell_type": "markdown",
   "metadata": {},
   "source": [
    "## Performs Name-Entity Analysis for Corpus"
   ]
  },
  {
   "cell_type": "code",
   "execution_count": 4,
   "metadata": {},
   "outputs": [],
   "source": [
    "def ner(text): #returns entity for specific words in text\n",
    "    doc=nlp(text)\n",
    "    return [X.label_ for X in doc.ents] \n",
    "\n",
    "def classifyNamedEntity(data): #returns count for each entity in corpus\n",
    "    ent=data.apply(lambda x : ner((x)))\n",
    "    ent=[x for sub in ent for x in sub]\n",
    "    counter=Counter(ent)\n",
    "    count=counter.most_common()\n",
    "    print(count)\n",
    "    return count"
   ]
  },
  {
   "cell_type": "markdown",
   "metadata": {},
   "source": [
    "## Fetch Cleaned Data and Separating Data by Flair"
   ]
  },
  {
   "cell_type": "code",
   "execution_count": 5,
   "metadata": {
    "tags": [
     "outputPrepend"
    ]
   },
   "outputs": [],
   "source": [
    "posts = pd.read_csv('../data/cleansedData300.csv')\n",
    "posts[\"combined\"] = posts.title.astype(\"str\")+\" \"+posts.textBody.astype(\"str\")+\" \"+posts.comments.astype(\"str\")\n",
    "combinedList = posts[\"combined\"].values.tolist()\n",
    "flairList = posts[\"flair\"].values.tolist()\n",
    "flairs= [\"Scheduled\",\"Politics\",\"Photography\",\"Policy/Economy\",\"AskIndia\",\"Sports\",\n",
    "         \"Non-Political\",\"Science/Technology\",\"Food\",\"Business/Finance\",\"Coronavirus\"]\n",
    "scheduledCleaned = flairToDataFrame(flairs[0], flairList,combinedList,posts)\n",
    "politicsCleaned = flairToDataFrame(flairs[1], flairList,combinedList,posts)\n",
    "photographyCleaned= flairToDataFrame(flairs[2], flairList,combinedList,posts)\n",
    "policyEconomyCleaned = flairToDataFrame(flairs[3], flairList,combinedList,posts)\n",
    "askIndiaCleaned = flairToDataFrame(flairs[4], flairList,combinedList,posts)\n",
    "sportsCleaned = flairToDataFrame(flairs[5], flairList,combinedList,posts)\n",
    "nonPoliticalCleaned = flairToDataFrame(flairs[6], flairList,combinedList,posts)\n",
    "scienceTechCleaned = flairToDataFrame(flairs[7], flairList,combinedList,posts)\n",
    "foodCleaned = flairToDataFrame(flairs[8], flairList,combinedList,posts)\n",
    "buisnessFinanceCleaned = flairToDataFrame(flairs[9], flairList,combinedList,posts)\n",
    "coronavirusCleaned = flairToDataFrame(flairs[10], flairList,combinedList,posts)"
   ]
  },
  {
   "cell_type": "markdown",
   "metadata": {},
   "source": [
    "## Observing Clean Data"
   ]
  },
  {
   "cell_type": "code",
   "execution_count": 6,
   "metadata": {},
   "outputs": [
    {
     "data": {
      "text/html": [
       "<div>\n",
       "<style scoped>\n",
       "    .dataframe tbody tr th:only-of-type {\n",
       "        vertical-align: middle;\n",
       "    }\n",
       "\n",
       "    .dataframe tbody tr th {\n",
       "        vertical-align: top;\n",
       "    }\n",
       "\n",
       "    .dataframe thead th {\n",
       "        text-align: right;\n",
       "    }\n",
       "</style>\n",
       "<table border=\"1\" class=\"dataframe\">\n",
       "  <thead>\n",
       "    <tr style=\"text-align: right;\">\n",
       "      <th></th>\n",
       "      <th>title</th>\n",
       "      <th>url</th>\n",
       "      <th>author</th>\n",
       "      <th>textBody</th>\n",
       "      <th>flair</th>\n",
       "      <th>comments</th>\n",
       "      <th>authors</th>\n",
       "      <th>combined</th>\n",
       "    </tr>\n",
       "  </thead>\n",
       "  <tbody>\n",
       "    <tr>\n",
       "      <th>0</th>\n",
       "      <td>late random discussion thread night</td>\n",
       "      <td>https://www.reddit.com/r/india/comments/g0lfy8...</td>\n",
       "      <td>oxythebot</td>\n",
       "      <td>late random discussion thread night</td>\n",
       "      <td>Scheduled</td>\n",
       "      <td>late random discussion thread night</td>\n",
       "      <td>Desi_Bojack_Horseman imfuckedforever None None...</td>\n",
       "      <td>late random discussion thread night late rando...</td>\n",
       "    </tr>\n",
       "    <tr>\n",
       "      <th>1</th>\n",
       "      <td>late random discussion thread night</td>\n",
       "      <td>https://www.reddit.com/r/india/comments/fx8sbw...</td>\n",
       "      <td>oxythebot</td>\n",
       "      <td>late random discussion thread night</td>\n",
       "      <td>Scheduled</td>\n",
       "      <td>late random discussion thread night</td>\n",
       "      <td>None hitch44 BainganDrift loveonfireasian None...</td>\n",
       "      <td>late random discussion thread night late rando...</td>\n",
       "    </tr>\n",
       "    <tr>\n",
       "      <th>2</th>\n",
       "      <td>daily random discussion april thread 15am</td>\n",
       "      <td>https://www.reddit.com/r/india/comments/fzpfrc...</td>\n",
       "      <td>oxythebot</td>\n",
       "      <td>daily discussion random april thread 15am</td>\n",
       "      <td>Scheduled</td>\n",
       "      <td>daily discussion random april thread 15am</td>\n",
       "      <td>bunnykumarxyz Desi_Bojack_Horseman None Meraxe...</td>\n",
       "      <td>daily random discussion april thread 15am dail...</td>\n",
       "    </tr>\n",
       "    <tr>\n",
       "      <th>3</th>\n",
       "      <td>late random discussion thread night</td>\n",
       "      <td>https://www.reddit.com/r/india/comments/fyi8g2...</td>\n",
       "      <td>oxythebot</td>\n",
       "      <td>late random discussion thread night</td>\n",
       "      <td>Scheduled</td>\n",
       "      <td>late random discussion thread night</td>\n",
       "      <td>BainganDrift desdrot Desi_Bojack_Horseman None...</td>\n",
       "      <td>late random discussion thread night late rando...</td>\n",
       "    </tr>\n",
       "    <tr>\n",
       "      <th>4</th>\n",
       "      <td>late random discussion thread night</td>\n",
       "      <td>https://www.reddit.com/r/india/comments/fzyyju...</td>\n",
       "      <td>oxythebot</td>\n",
       "      <td>late random discussion thread night</td>\n",
       "      <td>Scheduled</td>\n",
       "      <td>late random discussion thread night</td>\n",
       "      <td>None Meraxes373 captainmogambo sfwaccountfw ac...</td>\n",
       "      <td>late random discussion thread night late rando...</td>\n",
       "    </tr>\n",
       "    <tr>\n",
       "      <th>5</th>\n",
       "      <td>late random discussion thread night</td>\n",
       "      <td>https://www.reddit.com/r/india/comments/fxuphz...</td>\n",
       "      <td>oxythebot</td>\n",
       "      <td>late random discussion thread night</td>\n",
       "      <td>Scheduled</td>\n",
       "      <td>late random discussion thread night</td>\n",
       "      <td>sarcrastinator BainganDrift None holdmybroccol...</td>\n",
       "      <td>late random discussion thread night late rando...</td>\n",
       "    </tr>\n",
       "    <tr>\n",
       "      <th>6</th>\n",
       "      <td>late random discussion thread night</td>\n",
       "      <td>https://www.reddit.com/r/india/comments/fuaor0...</td>\n",
       "      <td>oxythebot</td>\n",
       "      <td>late random discussion thread night</td>\n",
       "      <td>Scheduled</td>\n",
       "      <td>late random discussion thread night</td>\n",
       "      <td>Meraxes373 TintinQuarantino420 lonely_fungus b...</td>\n",
       "      <td>late random discussion thread night late rando...</td>\n",
       "    </tr>\n",
       "    <tr>\n",
       "      <th>7</th>\n",
       "      <td>late random discussion thread night</td>\n",
       "      <td>https://www.reddit.com/r/india/comments/fwmqim...</td>\n",
       "      <td>oxythebot</td>\n",
       "      <td>late random discussion thread night</td>\n",
       "      <td>Scheduled</td>\n",
       "      <td>late random discussion thread night</td>\n",
       "      <td>raddestmad Meraxes373 brown_burrito ganesh2394...</td>\n",
       "      <td>late random discussion thread night late rando...</td>\n",
       "    </tr>\n",
       "    <tr>\n",
       "      <th>8</th>\n",
       "      <td>daily random discussion april thread 15am</td>\n",
       "      <td>https://www.reddit.com/r/india/comments/fy7m88...</td>\n",
       "      <td>oxythebot</td>\n",
       "      <td>daily discussion random april thread 15am</td>\n",
       "      <td>Scheduled</td>\n",
       "      <td>daily discussion random april thread 15am</td>\n",
       "      <td>Final-Solid Desi_Bojack_Horseman jinnemeradill...</td>\n",
       "      <td>daily random discussion april thread 15am dail...</td>\n",
       "    </tr>\n",
       "    <tr>\n",
       "      <th>9</th>\n",
       "      <td>daily random discussion april thread 15am</td>\n",
       "      <td>https://www.reddit.com/r/india/comments/fxl7ws...</td>\n",
       "      <td>oxythebot</td>\n",
       "      <td>daily discussion random april thread 15am</td>\n",
       "      <td>Scheduled</td>\n",
       "      <td>daily discussion random april thread 15am</td>\n",
       "      <td>sarcrastinator thekingslayer98 Meraxes373 None...</td>\n",
       "      <td>daily random discussion april thread 15am dail...</td>\n",
       "    </tr>\n",
       "    <tr>\n",
       "      <th>10</th>\n",
       "      <td>late random discussion thread night</td>\n",
       "      <td>https://www.reddit.com/r/india/comments/fz7w25...</td>\n",
       "      <td>oxythebot</td>\n",
       "      <td>late random discussion thread night</td>\n",
       "      <td>Scheduled</td>\n",
       "      <td>late random discussion thread night</td>\n",
       "      <td>bh_ag_wan privilegedladka GumnaamFlautist sile...</td>\n",
       "      <td>late random discussion thread night late rando...</td>\n",
       "    </tr>\n",
       "    <tr>\n",
       "      <th>11</th>\n",
       "      <td>late random discussion thread night</td>\n",
       "      <td>https://www.reddit.com/r/india/comments/fw10cn...</td>\n",
       "      <td>oxythebot</td>\n",
       "      <td>late random discussion thread night</td>\n",
       "      <td>Scheduled</td>\n",
       "      <td>late random discussion thread night</td>\n",
       "      <td>rajatilu Desi_Bojack_Horseman Youruichi87 Okay...</td>\n",
       "      <td>late random discussion thread night late rando...</td>\n",
       "    </tr>\n",
       "    <tr>\n",
       "      <th>12</th>\n",
       "      <td>late random discussion thread night</td>\n",
       "      <td>https://www.reddit.com/r/india/comments/fvfs4p...</td>\n",
       "      <td>oxythebot</td>\n",
       "      <td>late random discussion thread night</td>\n",
       "      <td>Scheduled</td>\n",
       "      <td>late random discussion thread night</td>\n",
       "      <td>None CJ__47 GumnaamFlautist Desi_Bojack_Horsem...</td>\n",
       "      <td>late random discussion thread night late rando...</td>\n",
       "    </tr>\n",
       "    <tr>\n",
       "      <th>13</th>\n",
       "      <td>late random discussion thread night</td>\n",
       "      <td>https://www.reddit.com/r/india/comments/fr7uo9...</td>\n",
       "      <td>oxythebot</td>\n",
       "      <td>late random discussion thread night</td>\n",
       "      <td>Scheduled</td>\n",
       "      <td>late random discussion thread night</td>\n",
       "      <td>eatsleeprepeat101_ bh_ag_wan None None buttons...</td>\n",
       "      <td>late random discussion thread night late rando...</td>\n",
       "    </tr>\n",
       "    <tr>\n",
       "      <th>14</th>\n",
       "      <td>daily random discussion april thread 15am</td>\n",
       "      <td>https://www.reddit.com/r/india/comments/fv7bc6...</td>\n",
       "      <td>oxythebot</td>\n",
       "      <td>daily discussion random april thread 15am</td>\n",
       "      <td>Scheduled</td>\n",
       "      <td>daily discussion random april thread 15am</td>\n",
       "      <td>oldmonknewphone vmrks hitch44 aagayehumbhi I_a...</td>\n",
       "      <td>daily random discussion april thread 15am dail...</td>\n",
       "    </tr>\n",
       "    <tr>\n",
       "      <th>15</th>\n",
       "      <td>late random discussion thread night</td>\n",
       "      <td>https://www.reddit.com/r/india/comments/fuvubx...</td>\n",
       "      <td>oxythebot</td>\n",
       "      <td>late random discussion thread night</td>\n",
       "      <td>Scheduled</td>\n",
       "      <td>late random discussion thread night</td>\n",
       "      <td>None BuntyFromPremNagar None Thisisbhusha acit...</td>\n",
       "      <td>late random discussion thread night late rando...</td>\n",
       "    </tr>\n",
       "    <tr>\n",
       "      <th>16</th>\n",
       "      <td>daily random discussion april thread 15am</td>\n",
       "      <td>https://www.reddit.com/r/india/comments/g0y7zg...</td>\n",
       "      <td>oxythebot</td>\n",
       "      <td>daily discussion random april thread 15am</td>\n",
       "      <td>Scheduled</td>\n",
       "      <td>daily discussion random april thread 15am</td>\n",
       "      <td>AutoModerator holdmybroccoli NitambChhidr Desi...</td>\n",
       "      <td>daily random discussion april thread 15am dail...</td>\n",
       "    </tr>\n",
       "    <tr>\n",
       "      <th>17</th>\n",
       "      <td>late random discussion thread night</td>\n",
       "      <td>https://www.reddit.com/r/india/comments/ftolid...</td>\n",
       "      <td>oxythebot</td>\n",
       "      <td>late random discussion thread night</td>\n",
       "      <td>Scheduled</td>\n",
       "      <td>late random discussion thread night</td>\n",
       "      <td>None MainChompuTuBhompu silentchoir None inb4r...</td>\n",
       "      <td>late random discussion thread night late rando...</td>\n",
       "    </tr>\n",
       "    <tr>\n",
       "      <th>18</th>\n",
       "      <td>late random discussion thread night</td>\n",
       "      <td>https://www.reddit.com/r/india/comments/ft26pg...</td>\n",
       "      <td>oxythebot</td>\n",
       "      <td>late random discussion thread night</td>\n",
       "      <td>Scheduled</td>\n",
       "      <td>late random discussion thread night</td>\n",
       "      <td>Mesamayhoon holdmybroccoli visionerarchitect S...</td>\n",
       "      <td>late random discussion thread night late rando...</td>\n",
       "    </tr>\n",
       "    <tr>\n",
       "      <th>19</th>\n",
       "      <td>daily random discussion april thread 15am</td>\n",
       "      <td>https://www.reddit.com/r/india/comments/g0b97p...</td>\n",
       "      <td>oxythebot</td>\n",
       "      <td>daily discussion random april thread 15am</td>\n",
       "      <td>Scheduled</td>\n",
       "      <td>daily discussion random april thread 15am</td>\n",
       "      <td>Youruichi87 thedanklegion bunnykumarxyz Desi_B...</td>\n",
       "      <td>daily random discussion april thread 15am dail...</td>\n",
       "    </tr>\n",
       "    <tr>\n",
       "      <th>20</th>\n",
       "      <td>daily random discussion april thread 15am</td>\n",
       "      <td>https://www.reddit.com/r/india/comments/fwdeu4...</td>\n",
       "      <td>oxythebot</td>\n",
       "      <td>daily discussion random april thread 15am</td>\n",
       "      <td>Scheduled</td>\n",
       "      <td>daily discussion random april thread 15am</td>\n",
       "      <td>acitity Acetylated_Morphine None aagayehumbhi ...</td>\n",
       "      <td>daily random discussion april thread 15am dail...</td>\n",
       "    </tr>\n",
       "    <tr>\n",
       "      <th>21</th>\n",
       "      <td>daily random discussion thread march 15am</td>\n",
       "      <td>https://www.reddit.com/r/india/comments/fs5rss...</td>\n",
       "      <td>oxythebot</td>\n",
       "      <td>daily discussion random thread march 15am</td>\n",
       "      <td>Scheduled</td>\n",
       "      <td>daily discussion random thread march 15am</td>\n",
       "      <td>None None None None Youruichi87 MainChompuTuBh...</td>\n",
       "      <td>daily random discussion thread march 15am dail...</td>\n",
       "    </tr>\n",
       "    <tr>\n",
       "      <th>22</th>\n",
       "      <td>daily random discussion april thread 15am</td>\n",
       "      <td>https://www.reddit.com/r/india/comments/fyvtdj...</td>\n",
       "      <td>oxythebot</td>\n",
       "      <td>daily discussion random april thread 15am</td>\n",
       "      <td>Scheduled</td>\n",
       "      <td>daily discussion random april thread 15am</td>\n",
       "      <td>ashish_feels Desi_Bojack_Horseman None TintinQ...</td>\n",
       "      <td>daily random discussion april thread 15am dail...</td>\n",
       "    </tr>\n",
       "    <tr>\n",
       "      <th>23</th>\n",
       "      <td>daily random discussion april thread 15am</td>\n",
       "      <td>https://www.reddit.com/r/india/comments/fwz4tu...</td>\n",
       "      <td>oxythebot</td>\n",
       "      <td>daily discussion random april thread 15am</td>\n",
       "      <td>Scheduled</td>\n",
       "      <td>daily discussion random april thread 15am</td>\n",
       "      <td>None None OkayJanu sfwaccountfw None Desi_Boja...</td>\n",
       "      <td>daily random discussion april thread 15am dail...</td>\n",
       "    </tr>\n",
       "    <tr>\n",
       "      <th>24</th>\n",
       "      <td>daily random discussion thread march 15am</td>\n",
       "      <td>https://www.reddit.com/r/india/comments/frjn6m...</td>\n",
       "      <td>oxythebot</td>\n",
       "      <td>daily discussion random thread march 15am</td>\n",
       "      <td>Scheduled</td>\n",
       "      <td>daily discussion random thread march 15am</td>\n",
       "      <td>Z3DLooP None None COGlT0ErG0Sum visionerarchit...</td>\n",
       "      <td>daily random discussion thread march 15am dail...</td>\n",
       "    </tr>\n",
       "    <tr>\n",
       "      <th>25</th>\n",
       "      <td>daily random discussion april thread 15am</td>\n",
       "      <td>https://www.reddit.com/r/india/comments/fsrzmy...</td>\n",
       "      <td>oxythebot</td>\n",
       "      <td>daily discussion random april thread 15am</td>\n",
       "      <td>Scheduled</td>\n",
       "      <td>daily discussion random april thread 15am</td>\n",
       "      <td>lebernum The_Polite_Renegade eatsleeprepeat101...</td>\n",
       "      <td>daily random discussion april thread 15am dail...</td>\n",
       "    </tr>\n",
       "    <tr>\n",
       "      <th>26</th>\n",
       "      <td>late random discussion thread night</td>\n",
       "      <td>https://www.reddit.com/r/india/comments/fsf7qd...</td>\n",
       "      <td>oxythebot</td>\n",
       "      <td>late random discussion thread night</td>\n",
       "      <td>Scheduled</td>\n",
       "      <td>late random discussion thread night</td>\n",
       "      <td>venom_me19 None Into_0blivi0n ipaidgymfee None...</td>\n",
       "      <td>late random discussion thread night late rando...</td>\n",
       "    </tr>\n",
       "    <tr>\n",
       "      <th>27</th>\n",
       "      <td>daily random discussion april thread 15am</td>\n",
       "      <td>https://www.reddit.com/r/india/comments/fumsia...</td>\n",
       "      <td>oxythebot</td>\n",
       "      <td>daily discussion random april thread 15am</td>\n",
       "      <td>Scheduled</td>\n",
       "      <td>daily discussion random april thread 15am</td>\n",
       "      <td>Desi_Bojack_Horseman Youruichi87 nandhari Mera...</td>\n",
       "      <td>daily random discussion april thread 15am dail...</td>\n",
       "    </tr>\n",
       "    <tr>\n",
       "      <th>28</th>\n",
       "      <td>daily random discussion thread march 15am</td>\n",
       "      <td>https://www.reddit.com/r/india/comments/fpq1pb...</td>\n",
       "      <td>oxythebot</td>\n",
       "      <td>daily discussion random thread march 15am</td>\n",
       "      <td>Scheduled</td>\n",
       "      <td>daily discussion random thread march 15am</td>\n",
       "      <td>iaintwotuthink None samacknojia visionerarchit...</td>\n",
       "      <td>daily random discussion thread march 15am dail...</td>\n",
       "    </tr>\n",
       "    <tr>\n",
       "      <th>29</th>\n",
       "      <td>daily random discussion april thread 15am</td>\n",
       "      <td>https://www.reddit.com/r/india/comments/fu12l2...</td>\n",
       "      <td>oxythebot</td>\n",
       "      <td>daily discussion random april thread 15am</td>\n",
       "      <td>Scheduled</td>\n",
       "      <td>daily discussion random april thread 15am</td>\n",
       "      <td>vmrks Meraxes373 Acetylated_Morphine matunga_ ...</td>\n",
       "      <td>daily random discussion april thread 15am dail...</td>\n",
       "    </tr>\n",
       "    <tr>\n",
       "      <th>30</th>\n",
       "      <td>late random discussion thread night</td>\n",
       "      <td>https://www.reddit.com/r/india/comments/frt5iz...</td>\n",
       "      <td>oxythebot</td>\n",
       "      <td>late random discussion thread night</td>\n",
       "      <td>Scheduled</td>\n",
       "      <td>late random discussion thread night</td>\n",
       "      <td>None shareaffi BuntyFromPremNagar brown_burrit...</td>\n",
       "      <td>late random discussion thread night late rando...</td>\n",
       "    </tr>\n",
       "    <tr>\n",
       "      <th>31</th>\n",
       "      <td>daily random discussion april thread 15am</td>\n",
       "      <td>https://www.reddit.com/r/india/comments/fvrki6...</td>\n",
       "      <td>oxythebot</td>\n",
       "      <td>daily discussion random april thread 15am</td>\n",
       "      <td>Scheduled</td>\n",
       "      <td>daily discussion random april thread 15am</td>\n",
       "      <td>jjjj__jj None xartaddct Meraxes373 bh_ag_wan s...</td>\n",
       "      <td>daily random discussion april thread 15am dail...</td>\n",
       "    </tr>\n",
       "    <tr>\n",
       "      <th>32</th>\n",
       "      <td>late random discussion thread night</td>\n",
       "      <td>https://www.reddit.com/r/india/comments/g1ug3p...</td>\n",
       "      <td>oxythebot</td>\n",
       "      <td>late random discussion thread night</td>\n",
       "      <td>Scheduled</td>\n",
       "      <td>late random discussion thread night</td>\n",
       "      <td>AutoModerator aishsaxual lebernum lebernum zar...</td>\n",
       "      <td>late random discussion thread night late rando...</td>\n",
       "    </tr>\n",
       "    <tr>\n",
       "      <th>33</th>\n",
       "      <td>daily random discussion thread march 15am</td>\n",
       "      <td>https://www.reddit.com/r/india/comments/fp4mjq...</td>\n",
       "      <td>oxythebot</td>\n",
       "      <td>daily discussion random thread march 15am</td>\n",
       "      <td>Scheduled</td>\n",
       "      <td>daily discussion random thread march 15am</td>\n",
       "      <td>aagayehumbhi OkayJanu None XeroXfromRiften Mer...</td>\n",
       "      <td>daily random discussion thread march 15am dail...</td>\n",
       "    </tr>\n",
       "    <tr>\n",
       "      <th>34</th>\n",
       "      <td>daily random discussion april thread 15am</td>\n",
       "      <td>https://www.reddit.com/r/india/comments/ftfaef...</td>\n",
       "      <td>oxythebot</td>\n",
       "      <td>daily discussion random april thread 15am</td>\n",
       "      <td>Scheduled</td>\n",
       "      <td>daily discussion random april thread 15am</td>\n",
       "      <td>acitity holdmybroccoli visionerarchitect Merax...</td>\n",
       "      <td>daily random discussion april thread 15am dail...</td>\n",
       "    </tr>\n",
       "    <tr>\n",
       "      <th>35</th>\n",
       "      <td>late random discussion thread night</td>\n",
       "      <td>https://www.reddit.com/r/india/comments/g18kne...</td>\n",
       "      <td>oxythebot</td>\n",
       "      <td>late random discussion thread night</td>\n",
       "      <td>Scheduled</td>\n",
       "      <td>late random discussion thread night</td>\n",
       "      <td>AutoModerator venom_me19 Desi_Bojack_Horseman ...</td>\n",
       "      <td>late random discussion thread night late rando...</td>\n",
       "    </tr>\n",
       "    <tr>\n",
       "      <th>36</th>\n",
       "      <td>late random discussion thread night</td>\n",
       "      <td>https://www.reddit.com/r/india/comments/fpz69x...</td>\n",
       "      <td>oxythebot</td>\n",
       "      <td>late random discussion thread night</td>\n",
       "      <td>Scheduled</td>\n",
       "      <td>late random discussion thread night</td>\n",
       "      <td>Desi_Bojack_Horseman None jjjj__jj ThePenguinW...</td>\n",
       "      <td>late random discussion thread night late rando...</td>\n",
       "    </tr>\n",
       "    <tr>\n",
       "      <th>37</th>\n",
       "      <td>late random discussion thread night</td>\n",
       "      <td>https://www.reddit.com/r/india/comments/fpdqmk...</td>\n",
       "      <td>oxythebot</td>\n",
       "      <td>late random discussion thread night</td>\n",
       "      <td>Scheduled</td>\n",
       "      <td>late random discussion thread night</td>\n",
       "      <td>Z3DLooP Meraxes373 Desi_Bojack_Horseman None N...</td>\n",
       "      <td>late random discussion thread night late rando...</td>\n",
       "    </tr>\n",
       "    <tr>\n",
       "      <th>38</th>\n",
       "      <td>daily random discussion thread march 15am</td>\n",
       "      <td>https://www.reddit.com/r/india/comments/fmtci9...</td>\n",
       "      <td>oxythebot</td>\n",
       "      <td>daily discussion random thread march 15am</td>\n",
       "      <td>Scheduled</td>\n",
       "      <td>daily discussion random thread march 15am</td>\n",
       "      <td>iaintwotuthink None None None Meraxes373 aagay...</td>\n",
       "      <td>daily random discussion thread march 15am dail...</td>\n",
       "    </tr>\n",
       "    <tr>\n",
       "      <th>39</th>\n",
       "      <td>daily random discussion thread march 15am</td>\n",
       "      <td>https://www.reddit.com/r/india/comments/fqcona...</td>\n",
       "      <td>oxythebot</td>\n",
       "      <td>daily discussion random thread march 15am</td>\n",
       "      <td>Scheduled</td>\n",
       "      <td>daily discussion random thread march 15am</td>\n",
       "      <td>GumnaamFlautist brown_burrito brown_burrito Me...</td>\n",
       "      <td>daily random discussion thread march 15am dail...</td>\n",
       "    </tr>\n",
       "    <tr>\n",
       "      <th>40</th>\n",
       "      <td>daily random discussion thread march 15am</td>\n",
       "      <td>https://www.reddit.com/r/india/comments/fqz7u2...</td>\n",
       "      <td>oxythebot</td>\n",
       "      <td>daily discussion random thread march 15am</td>\n",
       "      <td>Scheduled</td>\n",
       "      <td>daily discussion random thread march 15am</td>\n",
       "      <td>WristyFlick2 xartaddct None AimHrimKleem vmrks...</td>\n",
       "      <td>daily random discussion thread march 15am dail...</td>\n",
       "    </tr>\n",
       "    <tr>\n",
       "      <th>41</th>\n",
       "      <td>late random discussion thread night</td>\n",
       "      <td>https://www.reddit.com/r/india/comments/fn1oi7...</td>\n",
       "      <td>oxythebot</td>\n",
       "      <td>late random discussion thread night</td>\n",
       "      <td>Scheduled</td>\n",
       "      <td>late random discussion thread night</td>\n",
       "      <td>sidd332 _RandomRedditor desdrot aadharshbalak ...</td>\n",
       "      <td>late random discussion thread night late rando...</td>\n",
       "    </tr>\n",
       "    <tr>\n",
       "      <th>42</th>\n",
       "      <td>late random discussion thread night</td>\n",
       "      <td>https://www.reddit.com/r/india/comments/flx5rt...</td>\n",
       "      <td>oxythebot</td>\n",
       "      <td>late random discussion thread night</td>\n",
       "      <td>Scheduled</td>\n",
       "      <td>late random discussion thread night</td>\n",
       "      <td>None nakshhhhatra SapienSaw dramainsanity sama...</td>\n",
       "      <td>late random discussion thread night late rando...</td>\n",
       "    </tr>\n",
       "    <tr>\n",
       "      <th>43</th>\n",
       "      <td>late random discussion thread night</td>\n",
       "      <td>https://www.reddit.com/r/india/comments/fo79bd...</td>\n",
       "      <td>oxythebot</td>\n",
       "      <td>late random discussion thread night</td>\n",
       "      <td>Scheduled</td>\n",
       "      <td>late random discussion thread night</td>\n",
       "      <td>Desi_Bojack_Horseman SnarlsChickens jjjj__jj A...</td>\n",
       "      <td>late random discussion thread night late rando...</td>\n",
       "    </tr>\n",
       "    <tr>\n",
       "      <th>44</th>\n",
       "      <td>daily random discussion thread march 15am</td>\n",
       "      <td>https://www.reddit.com/r/india/comments/fnddav...</td>\n",
       "      <td>oxythebot</td>\n",
       "      <td>daily discussion random thread march 15am</td>\n",
       "      <td>Scheduled</td>\n",
       "      <td>daily discussion random thread march 15am</td>\n",
       "      <td>SapienSaw GeorgeIsABot eatsleeprepeat101_ None...</td>\n",
       "      <td>daily random discussion thread march 15am dail...</td>\n",
       "    </tr>\n",
       "    <tr>\n",
       "      <th>45</th>\n",
       "      <td>late random discussion thread night</td>\n",
       "      <td>https://www.reddit.com/r/india/comments/fqmjn3...</td>\n",
       "      <td>oxythebot</td>\n",
       "      <td>late random discussion thread night</td>\n",
       "      <td>Scheduled</td>\n",
       "      <td>late random discussion thread night</td>\n",
       "      <td>None _RandomRedditor Toxic_Addiction None vmrk...</td>\n",
       "      <td>late random discussion thread night late rando...</td>\n",
       "    </tr>\n",
       "    <tr>\n",
       "      <th>46</th>\n",
       "      <td>positive news happiness life recently thread s...</td>\n",
       "      <td>https://www.reddit.com/r/india/comments/g4d2ix...</td>\n",
       "      <td>cool_boyy</td>\n",
       "      <td>positive news happiness randians life recently...</td>\n",
       "      <td>Scheduled</td>\n",
       "      <td>positive news happiness randians life recently...</td>\n",
       "      <td>cool_boyy Monsultant blinkinghell Hand-O-God d...</td>\n",
       "      <td>positive news happiness life recently thread s...</td>\n",
       "    </tr>\n",
       "    <tr>\n",
       "      <th>47</th>\n",
       "      <td>daily random discussion thread march 15am</td>\n",
       "      <td>https://www.reddit.com/r/india/comments/fojk69...</td>\n",
       "      <td>oxythebot</td>\n",
       "      <td>daily discussion random thread march 15am</td>\n",
       "      <td>Scheduled</td>\n",
       "      <td>daily discussion random thread march 15am</td>\n",
       "      <td>Youruichi87 my_username__ OkayJanu my_username...</td>\n",
       "      <td>daily random discussion thread march 15am dail...</td>\n",
       "    </tr>\n",
       "    <tr>\n",
       "      <th>48</th>\n",
       "      <td>late random discussion thread night</td>\n",
       "      <td>https://www.reddit.com/r/india/comments/flc59r...</td>\n",
       "      <td>oxythebot</td>\n",
       "      <td>late random discussion thread night</td>\n",
       "      <td>Scheduled</td>\n",
       "      <td>late random discussion thread night</td>\n",
       "      <td>SnarlsChickens brown_burrito GumnaamFlautist P...</td>\n",
       "      <td>late random discussion thread night late rando...</td>\n",
       "    </tr>\n",
       "    <tr>\n",
       "      <th>49</th>\n",
       "      <td>daily random discussion thread march 15am</td>\n",
       "      <td>https://www.reddit.com/r/india/comments/fnyasy...</td>\n",
       "      <td>oxythebot</td>\n",
       "      <td>daily discussion random thread march 15am</td>\n",
       "      <td>Scheduled</td>\n",
       "      <td>daily discussion random thread march 15am</td>\n",
       "      <td>AimHrimKleem _batman_23 blank38 GumnaamFlautis...</td>\n",
       "      <td>daily random discussion thread march 15am dail...</td>\n",
       "    </tr>\n",
       "  </tbody>\n",
       "</table>\n",
       "</div>"
      ],
      "text/plain": [
       "                                                title  \\\n",
       "0                 late random discussion thread night   \n",
       "1                 late random discussion thread night   \n",
       "2           daily random discussion april thread 15am   \n",
       "3                 late random discussion thread night   \n",
       "4                 late random discussion thread night   \n",
       "5                 late random discussion thread night   \n",
       "6                 late random discussion thread night   \n",
       "7                 late random discussion thread night   \n",
       "8           daily random discussion april thread 15am   \n",
       "9           daily random discussion april thread 15am   \n",
       "10                late random discussion thread night   \n",
       "11                late random discussion thread night   \n",
       "12                late random discussion thread night   \n",
       "13                late random discussion thread night   \n",
       "14          daily random discussion april thread 15am   \n",
       "15                late random discussion thread night   \n",
       "16          daily random discussion april thread 15am   \n",
       "17                late random discussion thread night   \n",
       "18                late random discussion thread night   \n",
       "19          daily random discussion april thread 15am   \n",
       "20          daily random discussion april thread 15am   \n",
       "21          daily random discussion thread march 15am   \n",
       "22          daily random discussion april thread 15am   \n",
       "23          daily random discussion april thread 15am   \n",
       "24          daily random discussion thread march 15am   \n",
       "25          daily random discussion april thread 15am   \n",
       "26                late random discussion thread night   \n",
       "27          daily random discussion april thread 15am   \n",
       "28          daily random discussion thread march 15am   \n",
       "29          daily random discussion april thread 15am   \n",
       "30                late random discussion thread night   \n",
       "31          daily random discussion april thread 15am   \n",
       "32                late random discussion thread night   \n",
       "33          daily random discussion thread march 15am   \n",
       "34          daily random discussion april thread 15am   \n",
       "35                late random discussion thread night   \n",
       "36                late random discussion thread night   \n",
       "37                late random discussion thread night   \n",
       "38          daily random discussion thread march 15am   \n",
       "39          daily random discussion thread march 15am   \n",
       "40          daily random discussion thread march 15am   \n",
       "41                late random discussion thread night   \n",
       "42                late random discussion thread night   \n",
       "43                late random discussion thread night   \n",
       "44          daily random discussion thread march 15am   \n",
       "45                late random discussion thread night   \n",
       "46  positive news happiness life recently thread s...   \n",
       "47          daily random discussion thread march 15am   \n",
       "48                late random discussion thread night   \n",
       "49          daily random discussion thread march 15am   \n",
       "\n",
       "                                                  url     author  \\\n",
       "0   https://www.reddit.com/r/india/comments/g0lfy8...  oxythebot   \n",
       "1   https://www.reddit.com/r/india/comments/fx8sbw...  oxythebot   \n",
       "2   https://www.reddit.com/r/india/comments/fzpfrc...  oxythebot   \n",
       "3   https://www.reddit.com/r/india/comments/fyi8g2...  oxythebot   \n",
       "4   https://www.reddit.com/r/india/comments/fzyyju...  oxythebot   \n",
       "5   https://www.reddit.com/r/india/comments/fxuphz...  oxythebot   \n",
       "6   https://www.reddit.com/r/india/comments/fuaor0...  oxythebot   \n",
       "7   https://www.reddit.com/r/india/comments/fwmqim...  oxythebot   \n",
       "8   https://www.reddit.com/r/india/comments/fy7m88...  oxythebot   \n",
       "9   https://www.reddit.com/r/india/comments/fxl7ws...  oxythebot   \n",
       "10  https://www.reddit.com/r/india/comments/fz7w25...  oxythebot   \n",
       "11  https://www.reddit.com/r/india/comments/fw10cn...  oxythebot   \n",
       "12  https://www.reddit.com/r/india/comments/fvfs4p...  oxythebot   \n",
       "13  https://www.reddit.com/r/india/comments/fr7uo9...  oxythebot   \n",
       "14  https://www.reddit.com/r/india/comments/fv7bc6...  oxythebot   \n",
       "15  https://www.reddit.com/r/india/comments/fuvubx...  oxythebot   \n",
       "16  https://www.reddit.com/r/india/comments/g0y7zg...  oxythebot   \n",
       "17  https://www.reddit.com/r/india/comments/ftolid...  oxythebot   \n",
       "18  https://www.reddit.com/r/india/comments/ft26pg...  oxythebot   \n",
       "19  https://www.reddit.com/r/india/comments/g0b97p...  oxythebot   \n",
       "20  https://www.reddit.com/r/india/comments/fwdeu4...  oxythebot   \n",
       "21  https://www.reddit.com/r/india/comments/fs5rss...  oxythebot   \n",
       "22  https://www.reddit.com/r/india/comments/fyvtdj...  oxythebot   \n",
       "23  https://www.reddit.com/r/india/comments/fwz4tu...  oxythebot   \n",
       "24  https://www.reddit.com/r/india/comments/frjn6m...  oxythebot   \n",
       "25  https://www.reddit.com/r/india/comments/fsrzmy...  oxythebot   \n",
       "26  https://www.reddit.com/r/india/comments/fsf7qd...  oxythebot   \n",
       "27  https://www.reddit.com/r/india/comments/fumsia...  oxythebot   \n",
       "28  https://www.reddit.com/r/india/comments/fpq1pb...  oxythebot   \n",
       "29  https://www.reddit.com/r/india/comments/fu12l2...  oxythebot   \n",
       "30  https://www.reddit.com/r/india/comments/frt5iz...  oxythebot   \n",
       "31  https://www.reddit.com/r/india/comments/fvrki6...  oxythebot   \n",
       "32  https://www.reddit.com/r/india/comments/g1ug3p...  oxythebot   \n",
       "33  https://www.reddit.com/r/india/comments/fp4mjq...  oxythebot   \n",
       "34  https://www.reddit.com/r/india/comments/ftfaef...  oxythebot   \n",
       "35  https://www.reddit.com/r/india/comments/g18kne...  oxythebot   \n",
       "36  https://www.reddit.com/r/india/comments/fpz69x...  oxythebot   \n",
       "37  https://www.reddit.com/r/india/comments/fpdqmk...  oxythebot   \n",
       "38  https://www.reddit.com/r/india/comments/fmtci9...  oxythebot   \n",
       "39  https://www.reddit.com/r/india/comments/fqcona...  oxythebot   \n",
       "40  https://www.reddit.com/r/india/comments/fqz7u2...  oxythebot   \n",
       "41  https://www.reddit.com/r/india/comments/fn1oi7...  oxythebot   \n",
       "42  https://www.reddit.com/r/india/comments/flx5rt...  oxythebot   \n",
       "43  https://www.reddit.com/r/india/comments/fo79bd...  oxythebot   \n",
       "44  https://www.reddit.com/r/india/comments/fnddav...  oxythebot   \n",
       "45  https://www.reddit.com/r/india/comments/fqmjn3...  oxythebot   \n",
       "46  https://www.reddit.com/r/india/comments/g4d2ix...  cool_boyy   \n",
       "47  https://www.reddit.com/r/india/comments/fojk69...  oxythebot   \n",
       "48  https://www.reddit.com/r/india/comments/flc59r...  oxythebot   \n",
       "49  https://www.reddit.com/r/india/comments/fnyasy...  oxythebot   \n",
       "\n",
       "                                             textBody      flair  \\\n",
       "0                 late random discussion thread night  Scheduled   \n",
       "1                 late random discussion thread night  Scheduled   \n",
       "2           daily discussion random april thread 15am  Scheduled   \n",
       "3                 late random discussion thread night  Scheduled   \n",
       "4                 late random discussion thread night  Scheduled   \n",
       "5                 late random discussion thread night  Scheduled   \n",
       "6                 late random discussion thread night  Scheduled   \n",
       "7                 late random discussion thread night  Scheduled   \n",
       "8           daily discussion random april thread 15am  Scheduled   \n",
       "9           daily discussion random april thread 15am  Scheduled   \n",
       "10                late random discussion thread night  Scheduled   \n",
       "11                late random discussion thread night  Scheduled   \n",
       "12                late random discussion thread night  Scheduled   \n",
       "13                late random discussion thread night  Scheduled   \n",
       "14          daily discussion random april thread 15am  Scheduled   \n",
       "15                late random discussion thread night  Scheduled   \n",
       "16          daily discussion random april thread 15am  Scheduled   \n",
       "17                late random discussion thread night  Scheduled   \n",
       "18                late random discussion thread night  Scheduled   \n",
       "19          daily discussion random april thread 15am  Scheduled   \n",
       "20          daily discussion random april thread 15am  Scheduled   \n",
       "21          daily discussion random thread march 15am  Scheduled   \n",
       "22          daily discussion random april thread 15am  Scheduled   \n",
       "23          daily discussion random april thread 15am  Scheduled   \n",
       "24          daily discussion random thread march 15am  Scheduled   \n",
       "25          daily discussion random april thread 15am  Scheduled   \n",
       "26                late random discussion thread night  Scheduled   \n",
       "27          daily discussion random april thread 15am  Scheduled   \n",
       "28          daily discussion random thread march 15am  Scheduled   \n",
       "29          daily discussion random april thread 15am  Scheduled   \n",
       "30                late random discussion thread night  Scheduled   \n",
       "31          daily discussion random april thread 15am  Scheduled   \n",
       "32                late random discussion thread night  Scheduled   \n",
       "33          daily discussion random thread march 15am  Scheduled   \n",
       "34          daily discussion random april thread 15am  Scheduled   \n",
       "35                late random discussion thread night  Scheduled   \n",
       "36                late random discussion thread night  Scheduled   \n",
       "37                late random discussion thread night  Scheduled   \n",
       "38          daily discussion random thread march 15am  Scheduled   \n",
       "39          daily discussion random thread march 15am  Scheduled   \n",
       "40          daily discussion random thread march 15am  Scheduled   \n",
       "41                late random discussion thread night  Scheduled   \n",
       "42                late random discussion thread night  Scheduled   \n",
       "43                late random discussion thread night  Scheduled   \n",
       "44          daily discussion random thread march 15am  Scheduled   \n",
       "45                late random discussion thread night  Scheduled   \n",
       "46  positive news happiness randians life recently...  Scheduled   \n",
       "47          daily discussion random thread march 15am  Scheduled   \n",
       "48                late random discussion thread night  Scheduled   \n",
       "49          daily discussion random thread march 15am  Scheduled   \n",
       "\n",
       "                                             comments  \\\n",
       "0                 late random discussion thread night   \n",
       "1                 late random discussion thread night   \n",
       "2           daily discussion random april thread 15am   \n",
       "3                 late random discussion thread night   \n",
       "4                 late random discussion thread night   \n",
       "5                 late random discussion thread night   \n",
       "6                 late random discussion thread night   \n",
       "7                 late random discussion thread night   \n",
       "8           daily discussion random april thread 15am   \n",
       "9           daily discussion random april thread 15am   \n",
       "10                late random discussion thread night   \n",
       "11                late random discussion thread night   \n",
       "12                late random discussion thread night   \n",
       "13                late random discussion thread night   \n",
       "14          daily discussion random april thread 15am   \n",
       "15                late random discussion thread night   \n",
       "16          daily discussion random april thread 15am   \n",
       "17                late random discussion thread night   \n",
       "18                late random discussion thread night   \n",
       "19          daily discussion random april thread 15am   \n",
       "20          daily discussion random april thread 15am   \n",
       "21          daily discussion random thread march 15am   \n",
       "22          daily discussion random april thread 15am   \n",
       "23          daily discussion random april thread 15am   \n",
       "24          daily discussion random thread march 15am   \n",
       "25          daily discussion random april thread 15am   \n",
       "26                late random discussion thread night   \n",
       "27          daily discussion random april thread 15am   \n",
       "28          daily discussion random thread march 15am   \n",
       "29          daily discussion random april thread 15am   \n",
       "30                late random discussion thread night   \n",
       "31          daily discussion random april thread 15am   \n",
       "32                late random discussion thread night   \n",
       "33          daily discussion random thread march 15am   \n",
       "34          daily discussion random april thread 15am   \n",
       "35                late random discussion thread night   \n",
       "36                late random discussion thread night   \n",
       "37                late random discussion thread night   \n",
       "38          daily discussion random thread march 15am   \n",
       "39          daily discussion random thread march 15am   \n",
       "40          daily discussion random thread march 15am   \n",
       "41                late random discussion thread night   \n",
       "42                late random discussion thread night   \n",
       "43                late random discussion thread night   \n",
       "44          daily discussion random thread march 15am   \n",
       "45                late random discussion thread night   \n",
       "46  positive news happiness randians life recently...   \n",
       "47          daily discussion random thread march 15am   \n",
       "48                late random discussion thread night   \n",
       "49          daily discussion random thread march 15am   \n",
       "\n",
       "                                              authors  \\\n",
       "0   Desi_Bojack_Horseman imfuckedforever None None...   \n",
       "1   None hitch44 BainganDrift loveonfireasian None...   \n",
       "2   bunnykumarxyz Desi_Bojack_Horseman None Meraxe...   \n",
       "3   BainganDrift desdrot Desi_Bojack_Horseman None...   \n",
       "4   None Meraxes373 captainmogambo sfwaccountfw ac...   \n",
       "5   sarcrastinator BainganDrift None holdmybroccol...   \n",
       "6   Meraxes373 TintinQuarantino420 lonely_fungus b...   \n",
       "7   raddestmad Meraxes373 brown_burrito ganesh2394...   \n",
       "8   Final-Solid Desi_Bojack_Horseman jinnemeradill...   \n",
       "9   sarcrastinator thekingslayer98 Meraxes373 None...   \n",
       "10  bh_ag_wan privilegedladka GumnaamFlautist sile...   \n",
       "11  rajatilu Desi_Bojack_Horseman Youruichi87 Okay...   \n",
       "12  None CJ__47 GumnaamFlautist Desi_Bojack_Horsem...   \n",
       "13  eatsleeprepeat101_ bh_ag_wan None None buttons...   \n",
       "14  oldmonknewphone vmrks hitch44 aagayehumbhi I_a...   \n",
       "15  None BuntyFromPremNagar None Thisisbhusha acit...   \n",
       "16  AutoModerator holdmybroccoli NitambChhidr Desi...   \n",
       "17  None MainChompuTuBhompu silentchoir None inb4r...   \n",
       "18  Mesamayhoon holdmybroccoli visionerarchitect S...   \n",
       "19  Youruichi87 thedanklegion bunnykumarxyz Desi_B...   \n",
       "20  acitity Acetylated_Morphine None aagayehumbhi ...   \n",
       "21  None None None None Youruichi87 MainChompuTuBh...   \n",
       "22  ashish_feels Desi_Bojack_Horseman None TintinQ...   \n",
       "23  None None OkayJanu sfwaccountfw None Desi_Boja...   \n",
       "24  Z3DLooP None None COGlT0ErG0Sum visionerarchit...   \n",
       "25  lebernum The_Polite_Renegade eatsleeprepeat101...   \n",
       "26  venom_me19 None Into_0blivi0n ipaidgymfee None...   \n",
       "27  Desi_Bojack_Horseman Youruichi87 nandhari Mera...   \n",
       "28  iaintwotuthink None samacknojia visionerarchit...   \n",
       "29  vmrks Meraxes373 Acetylated_Morphine matunga_ ...   \n",
       "30  None shareaffi BuntyFromPremNagar brown_burrit...   \n",
       "31  jjjj__jj None xartaddct Meraxes373 bh_ag_wan s...   \n",
       "32  AutoModerator aishsaxual lebernum lebernum zar...   \n",
       "33  aagayehumbhi OkayJanu None XeroXfromRiften Mer...   \n",
       "34  acitity holdmybroccoli visionerarchitect Merax...   \n",
       "35  AutoModerator venom_me19 Desi_Bojack_Horseman ...   \n",
       "36  Desi_Bojack_Horseman None jjjj__jj ThePenguinW...   \n",
       "37  Z3DLooP Meraxes373 Desi_Bojack_Horseman None N...   \n",
       "38  iaintwotuthink None None None Meraxes373 aagay...   \n",
       "39  GumnaamFlautist brown_burrito brown_burrito Me...   \n",
       "40  WristyFlick2 xartaddct None AimHrimKleem vmrks...   \n",
       "41  sidd332 _RandomRedditor desdrot aadharshbalak ...   \n",
       "42  None nakshhhhatra SapienSaw dramainsanity sama...   \n",
       "43  Desi_Bojack_Horseman SnarlsChickens jjjj__jj A...   \n",
       "44  SapienSaw GeorgeIsABot eatsleeprepeat101_ None...   \n",
       "45  None _RandomRedditor Toxic_Addiction None vmrk...   \n",
       "46  cool_boyy Monsultant blinkinghell Hand-O-God d...   \n",
       "47  Youruichi87 my_username__ OkayJanu my_username...   \n",
       "48  SnarlsChickens brown_burrito GumnaamFlautist P...   \n",
       "49  AimHrimKleem _batman_23 blank38 GumnaamFlautis...   \n",
       "\n",
       "                                             combined  \n",
       "0   late random discussion thread night late rando...  \n",
       "1   late random discussion thread night late rando...  \n",
       "2   daily random discussion april thread 15am dail...  \n",
       "3   late random discussion thread night late rando...  \n",
       "4   late random discussion thread night late rando...  \n",
       "5   late random discussion thread night late rando...  \n",
       "6   late random discussion thread night late rando...  \n",
       "7   late random discussion thread night late rando...  \n",
       "8   daily random discussion april thread 15am dail...  \n",
       "9   daily random discussion april thread 15am dail...  \n",
       "10  late random discussion thread night late rando...  \n",
       "11  late random discussion thread night late rando...  \n",
       "12  late random discussion thread night late rando...  \n",
       "13  late random discussion thread night late rando...  \n",
       "14  daily random discussion april thread 15am dail...  \n",
       "15  late random discussion thread night late rando...  \n",
       "16  daily random discussion april thread 15am dail...  \n",
       "17  late random discussion thread night late rando...  \n",
       "18  late random discussion thread night late rando...  \n",
       "19  daily random discussion april thread 15am dail...  \n",
       "20  daily random discussion april thread 15am dail...  \n",
       "21  daily random discussion thread march 15am dail...  \n",
       "22  daily random discussion april thread 15am dail...  \n",
       "23  daily random discussion april thread 15am dail...  \n",
       "24  daily random discussion thread march 15am dail...  \n",
       "25  daily random discussion april thread 15am dail...  \n",
       "26  late random discussion thread night late rando...  \n",
       "27  daily random discussion april thread 15am dail...  \n",
       "28  daily random discussion thread march 15am dail...  \n",
       "29  daily random discussion april thread 15am dail...  \n",
       "30  late random discussion thread night late rando...  \n",
       "31  daily random discussion april thread 15am dail...  \n",
       "32  late random discussion thread night late rando...  \n",
       "33  daily random discussion thread march 15am dail...  \n",
       "34  daily random discussion april thread 15am dail...  \n",
       "35  late random discussion thread night late rando...  \n",
       "36  late random discussion thread night late rando...  \n",
       "37  late random discussion thread night late rando...  \n",
       "38  daily random discussion thread march 15am dail...  \n",
       "39  daily random discussion thread march 15am dail...  \n",
       "40  daily random discussion thread march 15am dail...  \n",
       "41  late random discussion thread night late rando...  \n",
       "42  late random discussion thread night late rando...  \n",
       "43  late random discussion thread night late rando...  \n",
       "44  daily random discussion thread march 15am dail...  \n",
       "45  late random discussion thread night late rando...  \n",
       "46  positive news happiness life recently thread s...  \n",
       "47  daily random discussion thread march 15am dail...  \n",
       "48  late random discussion thread night late rando...  \n",
       "49  daily random discussion thread march 15am dail...  "
      ]
     },
     "execution_count": 6,
     "metadata": {},
     "output_type": "execute_result"
    }
   ],
   "source": [
    "posts.head(50)"
   ]
  },
  {
   "cell_type": "markdown",
   "metadata": {},
   "source": [
    "## Plotting Top 10 words in each Flair Data"
   ]
  },
  {
   "cell_type": "code",
   "execution_count": 7,
   "metadata": {},
   "outputs": [
    {
     "name": "stdout",
     "output_type": "stream",
     "text": [
      "[('thread', 738), ('discussion', 714), ('random', 711), ('daily', 360), ('15am', 357), ('late', 351), ('night', 351), ('march', 93), ('january', 90), ('february', 87)]\n"
     ]
    },
    {
     "data": {
      "text/plain": [
       "<matplotlib.axes._subplots.AxesSubplot at 0x7f744872cfd0>"
      ]
     },
     "execution_count": 7,
     "metadata": {},
     "output_type": "execute_result"
    },
    {
     "data": {
      "image/png": "[encoded data removed]",
      "text/plain": [
       "<Figure size 432x288 with 1 Axes>"
      ]
     },
     "metadata": {
      "needs_background": "light"
     },
     "output_type": "display_data"
    }
   ],
   "source": [
    "scheduledTopWords=topWords(scheduledCleaned)[:10]\n",
    "x,y=map(list,zip(*scheduledTopWords))\n",
    "sns.barplot(x=y,y=x)"
   ]
  },
  {
   "cell_type": "code",
   "execution_count": 8,
   "metadata": {},
   "outputs": [
    {
     "name": "stdout",
     "output_type": "stream",
     "text": [
      "[('india', 111), ('modi', 105), ('pm', 78), ('lockdown', 69), ('coronavirus', 51), ('covid', 48), ('news', 48), ('police', 45), ('says', 42), ('bjp', 39)]\n"
     ]
    },
    {
     "data": {
      "text/plain": [
       "<matplotlib.axes._subplots.AxesSubplot at 0x7f7442a73630>"
      ]
     },
     "execution_count": 8,
     "metadata": {},
     "output_type": "execute_result"
    },
    {
     "data": {
      "image/png": "[encoded data removed]",
      "text/plain": [
       "<Figure size 432x288 with 1 Axes>"
      ]
     },
     "metadata": {
      "needs_background": "light"
     },
     "output_type": "display_data"
    }
   ],
   "source": [
    "politicsTopWords=topWords(politicsCleaned)[:10]\n",
    "x,y=map(list,zip(*politicsTopWords))\n",
    "sns.barplot(x=y,y=x)"
   ]
  },
  {
   "cell_type": "code",
   "execution_count": 9,
   "metadata": {},
   "outputs": [
    {
     "name": "stdout",
     "output_type": "stream",
     "text": [
      "[('oc', 165), ('shot', 117), ('india', 111), ('delhi', 66), ('nikon', 63), ('beach', 48), ('taken', 45), ('oneplus', 42), ('one', 42), ('mumbai', 39)]\n"
     ]
    },
    {
     "data": {
      "text/plain": [
       "<matplotlib.axes._subplots.AxesSubplot at 0x7f744002aac8>"
      ]
     },
     "execution_count": 9,
     "metadata": {},
     "output_type": "execute_result"
    },
    {
     "data": {
      "image/png": "[encoded data removed]",
      "text/plain": [
       "<Figure size 432x288 with 1 Axes>"
      ]
     },
     "metadata": {
      "needs_background": "light"
     },
     "output_type": "display_data"
    }
   ],
   "source": [
    "photographyTopWords=topWords(photographyCleaned)[:10]\n",
    "x,y=map(list,zip(*photographyTopWords))\n",
    "sns.barplot(x=y,y=x)"
   ]
  },
  {
   "cell_type": "code",
   "execution_count": 10,
   "metadata": {},
   "outputs": [
    {
     "name": "stdout",
     "output_type": "stream",
     "text": [
      "[('india', 219), ('govt', 72), ('covid', 66), ('rs', 60), ('says', 54), ('lockdown', 51), ('economy', 48), ('government', 39), ('crore', 39), ('bank', 39)]\n"
     ]
    },
    {
     "data": {
      "text/plain": [
       "<matplotlib.axes._subplots.AxesSubplot at 0x7f743ffa9358>"
      ]
     },
     "execution_count": 10,
     "metadata": {},
     "output_type": "execute_result"
    },
    {
     "data": {
      "image/png": "[encoded data removed]",
      "text/plain": [
       "<Figure size 432x288 with 1 Axes>"
      ]
     },
     "metadata": {
      "needs_background": "light"
     },
     "output_type": "display_data"
    }
   ],
   "source": [
    "policyEconomyTopWords=topWords(policyEconomyCleaned)[:10]\n",
    "x,y=map(list,zip(*policyEconomyTopWords))\n",
    "sns.barplot(x=y,y=x)"
   ]
  },
  {
   "cell_type": "code",
   "execution_count": 11,
   "metadata": {},
   "outputs": [
    {
     "name": "stdout",
     "output_type": "stream",
     "text": [
      "[('india', 111), ('lockdown', 69), ('help', 69), ('indian', 54), ('advice', 36), ('need', 36), ('get', 33), ('please', 33), ('people', 27), ('indians', 27)]\n"
     ]
    },
    {
     "data": {
      "text/plain": [
       "<matplotlib.axes._subplots.AxesSubplot at 0x7f743feeb080>"
      ]
     },
     "execution_count": 11,
     "metadata": {},
     "output_type": "execute_result"
    },
    {
     "data": {
      "image/png": "[encoded data removed]",
      "text/plain": [
       "<Figure size 432x288 with 1 Axes>"
      ]
     },
     "metadata": {
      "needs_background": "light"
     },
     "output_type": "display_data"
    }
   ],
   "source": [
    "askIndiaTopWords=topWords(askIndiaCleaned)[:10]\n",
    "x,y=map(list,zip(*askIndiaTopWords))\n",
    "sns.barplot(x=y,y=x)"
   ]
  },
  {
   "cell_type": "code",
   "execution_count": 12,
   "metadata": {},
   "outputs": [
    {
     "name": "stdout",
     "output_type": "stream",
     "text": [
      "[('india', 186), ('indian', 120), ('world', 72), ('cup', 57), ('cricket', 48), ('team', 39), ('women', 39), ('sports', 36), ('first', 33), ('bcci', 30)]\n"
     ]
    },
    {
     "data": {
      "text/plain": [
       "<matplotlib.axes._subplots.AxesSubplot at 0x7f743feda668>"
      ]
     },
     "execution_count": 12,
     "metadata": {},
     "output_type": "execute_result"
    },
    {
     "data": {
      "image/png": "[encoded data removed]",
      "text/plain": [
       "<Figure size 432x288 with 1 Axes>"
      ]
     },
     "metadata": {
      "needs_background": "light"
     },
     "output_type": "display_data"
    }
   ],
   "source": [
    "sportsTopWords=topWords(sportsCleaned)[:10]\n",
    "x,y=map(list,zip(*sportsTopWords))\n",
    "sns.barplot(x=y,y=x)"
   ]
  },
  {
   "cell_type": "code",
   "execution_count": 13,
   "metadata": {},
   "outputs": [
    {
     "name": "stdout",
     "output_type": "stream",
     "text": [
      "[('india', 108), ('lockdown', 81), ('indian', 54), ('old', 42), ('man', 42), ('covid', 36), ('police', 33), ('found', 27), ('today', 24), ('coronavirus', 24)]\n"
     ]
    },
    {
     "data": {
      "text/plain": [
       "<matplotlib.axes._subplots.AxesSubplot at 0x7f743fe08240>"
      ]
     },
     "execution_count": 13,
     "metadata": {},
     "output_type": "execute_result"
    },
    {
     "data": {
      "image/png": "[encoded data removed]",
      "text/plain": [
       "<Figure size 432x288 with 1 Axes>"
      ]
     },
     "metadata": {
      "needs_background": "light"
     },
     "output_type": "display_data"
    }
   ],
   "source": [
    "nonPoliticalTopWords=topWords(nonPoliticalCleaned)[:10]\n",
    "x,y=map(list,zip(*nonPoliticalTopWords))\n",
    "sns.barplot(x=y,y=x)"
   ]
  },
  {
   "cell_type": "code",
   "execution_count": 14,
   "metadata": {},
   "outputs": [
    {
     "name": "stdout",
     "output_type": "stream",
     "text": [
      "[('india', 204), ('indian', 63), ('covid', 54), ('coronavirus', 45), ('world', 33), ('internet', 27), ('iit', 27), ('cow', 27), ('new', 27), ('users', 24)]\n"
     ]
    },
    {
     "data": {
      "text/plain": [
       "<matplotlib.axes._subplots.AxesSubplot at 0x7f743fd2ca90>"
      ]
     },
     "execution_count": 14,
     "metadata": {},
     "output_type": "execute_result"
    },
    {
     "data": {
      "image/png": "[encoded data removed]",
      "text/plain": [
       "<Figure size 432x288 with 1 Axes>"
      ]
     },
     "metadata": {
      "needs_background": "light"
     },
     "output_type": "display_data"
    }
   ],
   "source": [
    "scienceTechTopWords=topWords(scienceTechCleaned)[:10]\n",
    "x,y=map(list,zip(*scienceTechTopWords))\n",
    "sns.barplot(x=y,y=x)"
   ]
  },
  {
   "cell_type": "code",
   "execution_count": 15,
   "metadata": {},
   "outputs": [
    {
     "name": "stdout",
     "output_type": "stream",
     "text": [
      "[('food', 90), ('indian', 87), ('india', 84), ('zomato', 30), ('chicken', 27), ('new', 24), ('biryani', 24), ('eat', 24), ('swiggy', 24), ('world', 24)]\n"
     ]
    },
    {
     "data": {
      "text/plain": [
       "<matplotlib.axes._subplots.AxesSubplot at 0x7f743fc6e320>"
      ]
     },
     "execution_count": 15,
     "metadata": {},
     "output_type": "execute_result"
    },
    {
     "data": {
      "image/png": "[encoded data removed]",
      "text/plain": [
       "<Figure size 432x288 with 1 Axes>"
      ]
     },
     "metadata": {
      "needs_background": "light"
     },
     "output_type": "display_data"
    }
   ],
   "source": [
    "foodTopWords=topWords(foodCleaned)[:10]\n",
    "x,y=map(list,zip(*foodTopWords))\n",
    "sns.barplot(x=y,y=x)"
   ]
  },
  {
   "cell_type": "code",
   "execution_count": 16,
   "metadata": {},
   "outputs": [
    {
     "name": "stdout",
     "output_type": "stream",
     "text": [
      "[('india', 150), ('bank', 69), ('rs', 57), ('indian', 51), ('coronavirus', 51), ('yes', 48), ('crore', 48), ('reliance', 45), ('jio', 42), ('covid', 39)]\n"
     ]
    },
    {
     "data": {
      "text/plain": [
       "<matplotlib.axes._subplots.AxesSubplot at 0x7f743fc00be0>"
      ]
     },
     "execution_count": 16,
     "metadata": {},
     "output_type": "execute_result"
    },
    {
     "data": {
      "image/png": "[encoded data removed]",
      "text/plain": [
       "<Figure size 432x288 with 1 Axes>"
      ]
     },
     "metadata": {
      "needs_background": "light"
     },
     "output_type": "display_data"
    }
   ],
   "source": [
    "buisnessFinanceTopWords=topWords(buisnessFinanceCleaned)[:10]\n",
    "x,y=map(list,zip(*buisnessFinanceTopWords))\n",
    "sns.barplot(x=y,y=x)"
   ]
  },
  {
   "cell_type": "code",
   "execution_count": 17,
   "metadata": {},
   "outputs": [
    {
     "name": "stdout",
     "output_type": "stream",
     "text": [
      "[('covid', 255), ('india', 165), ('lockdown', 153), ('coronavirus', 141), ('cases', 72), ('news', 63), ('times', 51), ('govt', 48), ('positive', 48), ('mumbai', 48)]\n"
     ]
    },
    {
     "data": {
      "text/plain": [
       "<matplotlib.axes._subplots.AxesSubplot at 0x7f7442a41278>"
      ]
     },
     "execution_count": 17,
     "metadata": {},
     "output_type": "execute_result"
    },
    {
     "data": {
      "image/png": "[encoded data removed]",
      "text/plain": [
       "<Figure size 432x288 with 1 Axes>"
      ]
     },
     "metadata": {
      "needs_background": "light"
     },
     "output_type": "display_data"
    }
   ],
   "source": [
    "coronavirusTopWords=topWords(coronavirusCleaned)[:10]\n",
    "x,y=map(list,zip(*coronavirusTopWords))\n",
    "sns.barplot(x=y,y=x)"
   ]
  },
  {
   "cell_type": "code",
   "execution_count": 18,
   "metadata": {
    "tags": [
     "outputPrepend"
    ]
   },
   "outputs": [
    {
     "name": "stdout",
     "output_type": "stream",
     "text": [
      "[('DATE', 518), ('TIME', 234), ('ORDINAL', 90), ('CARDINAL', 32), ('NORP', 6), ('GPE', 3), ('PERSON', 3), ('ORG', 2)]\n",
      "['DATE', 'TIME', 'ORDINAL', 'CARDINAL', 'NORP', 'GPE', 'PERSON', 'ORG'] [518, 234, 90, 32, 6, 3, 3, 2]\n"
     ]
    },
    {
     "data": {
      "text/plain": [
       "<matplotlib.axes._subplots.AxesSubplot at 0x7f743fed4128>"
      ]
     },
     "execution_count": 18,
     "metadata": {},
     "output_type": "execute_result"
    },
    {
     "data": {
      "image/png": "[encoded data removed]",
      "text/plain": [
       "<Figure size 432x288 with 1 Axes>"
      ]
     },
     "metadata": {
      "needs_background": "light"
     },
     "output_type": "display_data"
    }
   ],
   "source": [
    "x,y=map(list,zip(*classifyNamedEntity((scheduledCleaned))))\n",
    "print(x,y)\n",
    "sns.barplot(x=y,y=x)"
   ]
  },
  {
   "cell_type": "markdown",
   "metadata": {},
   "source": [
    "## Top Entities in Each Flair Data"
   ]
  },
  {
   "cell_type": "code",
   "execution_count": 19,
   "metadata": {},
   "outputs": [
    {
     "name": "stdout",
     "output_type": "stream",
     "text": [
      "[('PERSON', 298), ('GPE', 194), ('ORG', 187), ('NORP', 160), ('CARDINAL', 58), ('DATE', 57), ('TIME', 31), ('LOC', 13), ('ORDINAL', 5), ('FAC', 5), ('QUANTITY', 4), ('PRODUCT', 3), ('LAW', 1), ('LANGUAGE', 1)]\n"
     ]
    },
    {
     "data": {
      "text/plain": [
       "<matplotlib.axes._subplots.AxesSubplot at 0x7f743ea54d30>"
      ]
     },
     "execution_count": 19,
     "metadata": {},
     "output_type": "execute_result"
    },
    {
     "data": {
      "image/png": "[encoded data removed]",
      "text/plain": [
       "<Figure size 432x288 with 1 Axes>"
      ]
     },
     "metadata": {
      "needs_background": "light"
     },
     "output_type": "display_data"
    }
   ],
   "source": [
    "x,y=map(list,zip(*classifyNamedEntity(politicsCleaned)))\n",
    "sns.barplot(x=y,y=x)"
   ]
  },
  {
   "cell_type": "code",
   "execution_count": 20,
   "metadata": {},
   "outputs": [
    {
     "name": "stdout",
     "output_type": "stream",
     "text": [
      "[('GPE', 235), ('PERSON', 190), ('ORG', 122), ('CARDINAL', 97), ('DATE', 78), ('QUANTITY', 60), ('PRODUCT', 40), ('TIME', 39), ('LOC', 39), ('NORP', 33), ('FAC', 24), ('EVENT', 8), ('WORK_OF_ART', 5), ('MONEY', 5), ('ORDINAL', 5), ('LAW', 1)]\n"
     ]
    },
    {
     "data": {
      "text/plain": [
       "<matplotlib.axes._subplots.AxesSubplot at 0x7f743e8cb320>"
      ]
     },
     "execution_count": 20,
     "metadata": {},
     "output_type": "execute_result"
    },
    {
     "data": {
      "image/png": "[encoded data removed]",
      "text/plain": [
       "<Figure size 432x288 with 1 Axes>"
      ]
     },
     "metadata": {
      "needs_background": "light"
     },
     "output_type": "display_data"
    }
   ],
   "source": [
    "x,y=map(list,zip(*classifyNamedEntity(photographyCleaned)))\n",
    "sns.barplot(x=y,y=x)"
   ]
  },
  {
   "cell_type": "code",
   "execution_count": 21,
   "metadata": {},
   "outputs": [
    {
     "name": "stdout",
     "output_type": "stream",
     "text": [
      "[('GPE', 263), ('ORG', 199), ('PERSON', 119), ('DATE', 76), ('NORP', 66), ('CARDINAL', 50), ('LOC', 19), ('ORDINAL', 18), ('PRODUCT', 6), ('FAC', 5), ('TIME', 3)]\n"
     ]
    },
    {
     "data": {
      "text/plain": [
       "<matplotlib.axes._subplots.AxesSubplot at 0x7f743e884630>"
      ]
     },
     "execution_count": 21,
     "metadata": {},
     "output_type": "execute_result"
    },
    {
     "data": {
      "image/png": "[encoded data removed]",
      "text/plain": [
       "<Figure size 432x288 with 1 Axes>"
      ]
     },
     "metadata": {
      "needs_background": "light"
     },
     "output_type": "display_data"
    }
   ],
   "source": [
    "x,y=map(list,zip(*classifyNamedEntity(policyEconomyCleaned)))\n",
    "sns.barplot(x=y,y=x)"
   ]
  },
  {
   "cell_type": "code",
   "execution_count": 22,
   "metadata": {},
   "outputs": [
    {
     "name": "stdout",
     "output_type": "stream",
     "text": [
      "[('GPE', 134), ('NORP', 107), ('ORG', 72), ('PERSON', 66), ('DATE', 58), ('ORDINAL', 20), ('CARDINAL', 11), ('TIME', 7), ('WORK_OF_ART', 2), ('LOC', 2), ('FAC', 1)]\n"
     ]
    },
    {
     "data": {
      "text/plain": [
       "<matplotlib.axes._subplots.AxesSubplot at 0x7f743e766240>"
      ]
     },
     "execution_count": 22,
     "metadata": {},
     "output_type": "execute_result"
    },
    {
     "data": {
      "image/png": "[encoded data removed]",
      "text/plain": [
       "<Figure size 432x288 with 1 Axes>"
      ]
     },
     "metadata": {
      "needs_background": "light"
     },
     "output_type": "display_data"
    }
   ],
   "source": [
    "x,y=map(list,zip(*classifyNamedEntity(askIndiaCleaned)))\n",
    "sns.barplot(x=y,y=x)"
   ]
  },
  {
   "cell_type": "code",
   "execution_count": 23,
   "metadata": {},
   "outputs": [
    {
     "name": "stdout",
     "output_type": "stream",
     "text": [
      "[('GPE', 242), ('PERSON', 201), ('ORG', 184), ('NORP', 146), ('CARDINAL', 66), ('DATE', 58), ('ORDINAL', 37), ('EVENT', 16), ('LOC', 10), ('FAC', 7), ('TIME', 4), ('WORK_OF_ART', 2), ('QUANTITY', 2), ('LAW', 2), ('PRODUCT', 1)]\n"
     ]
    },
    {
     "data": {
      "text/plain": [
       "<matplotlib.axes._subplots.AxesSubplot at 0x7f743e695ba8>"
      ]
     },
     "execution_count": 23,
     "metadata": {},
     "output_type": "execute_result"
    },
    {
     "data": {
      "image/png": "[encoded data removed]",
      "text/plain": [
       "<Figure size 432x288 with 1 Axes>"
      ]
     },
     "metadata": {
      "needs_background": "light"
     },
     "output_type": "display_data"
    }
   ],
   "source": [
    "x,y=map(list,zip(*classifyNamedEntity(sportsCleaned)))\n",
    "sns.barplot(x=y,y=x)"
   ]
  },
  {
   "cell_type": "code",
   "execution_count": 24,
   "metadata": {},
   "outputs": [
    {
     "name": "stdout",
     "output_type": "stream",
     "text": [
      "[('PERSON', 182), ('GPE', 140), ('ORG', 119), ('NORP', 118), ('DATE', 81), ('CARDINAL', 63), ('TIME', 13), ('ORDINAL', 9), ('LOC', 8), ('PRODUCT', 6), ('QUANTITY', 4), ('LAW', 3), ('FAC', 2)]\n"
     ]
    },
    {
     "data": {
      "text/plain": [
       "<matplotlib.axes._subplots.AxesSubplot at 0x7f743e5aa4a8>"
      ]
     },
     "execution_count": 24,
     "metadata": {},
     "output_type": "execute_result"
    },
    {
     "data": {
      "image/png": "[encoded data removed]",
      "text/plain": [
       "<Figure size 432x288 with 1 Axes>"
      ]
     },
     "metadata": {
      "needs_background": "light"
     },
     "output_type": "display_data"
    }
   ],
   "source": [
    "x,y=map(list,zip(*classifyNamedEntity(nonPoliticalCleaned)))\n",
    "sns.barplot(x=y,y=x)"
   ]
  },
  {
   "cell_type": "code",
   "execution_count": 25,
   "metadata": {},
   "outputs": [
    {
     "name": "stdout",
     "output_type": "stream",
     "text": [
      "[('GPE', 221), ('ORG', 178), ('PERSON', 86), ('NORP', 83), ('CARDINAL', 64), ('DATE', 30), ('ORDINAL', 20), ('PRODUCT', 13), ('TIME', 10), ('QUANTITY', 9), ('LOC', 7), ('LANGUAGE', 3), ('FAC', 2), ('EVENT', 1)]\n"
     ]
    },
    {
     "data": {
      "text/plain": [
       "<matplotlib.axes._subplots.AxesSubplot at 0x7f743e481c88>"
      ]
     },
     "execution_count": 25,
     "metadata": {},
     "output_type": "execute_result"
    },
    {
     "data": {
      "image/png": "[encoded data removed]",
      "text/plain": [
       "<Figure size 432x288 with 1 Axes>"
      ]
     },
     "metadata": {
      "needs_background": "light"
     },
     "output_type": "display_data"
    }
   ],
   "source": [
    "x,y=map(list,zip(*classifyNamedEntity(scienceTechCleaned)))\n",
    "sns.barplot(x=y,y=x)"
   ]
  },
  {
   "cell_type": "code",
   "execution_count": 26,
   "metadata": {},
   "outputs": [
    {
     "name": "stdout",
     "output_type": "stream",
     "text": [
      "[('GPE', 122), ('PERSON', 105), ('ORG', 100), ('NORP', 91), ('DATE', 62), ('CARDINAL', 36), ('ORDINAL', 18), ('LOC', 7), ('TIME', 6), ('EVENT', 4), ('QUANTITY', 3), ('LAW', 3), ('FAC', 2)]\n"
     ]
    },
    {
     "data": {
      "text/plain": [
       "<matplotlib.axes._subplots.AxesSubplot at 0x7f743e3e7080>"
      ]
     },
     "execution_count": 26,
     "metadata": {},
     "output_type": "execute_result"
    },
    {
     "data": {
      "image/png": "[encoded data removed]",
      "text/plain": [
       "<Figure size 432x288 with 1 Axes>"
      ]
     },
     "metadata": {
      "needs_background": "light"
     },
     "output_type": "display_data"
    }
   ],
   "source": [
    "x,y=map(list,zip(*classifyNamedEntity(foodCleaned)))\n",
    "sns.barplot(x=y,y=x)"
   ]
  },
  {
   "cell_type": "code",
   "execution_count": 27,
   "metadata": {},
   "outputs": [
    {
     "name": "stdout",
     "output_type": "stream",
     "text": [
      "[('GPE', 178), ('ORG', 157), ('PERSON', 102), ('NORP', 81), ('DATE', 70), ('CARDINAL', 58), ('ORDINAL', 12), ('TIME', 12), ('PRODUCT', 11), ('FAC', 5), ('EVENT', 2), ('LOC', 1), ('QUANTITY', 1), ('MONEY', 1)]\n"
     ]
    },
    {
     "data": {
      "text/plain": [
       "<matplotlib.axes._subplots.AxesSubplot at 0x7f743e3e7f98>"
      ]
     },
     "execution_count": 27,
     "metadata": {},
     "output_type": "execute_result"
    },
    {
     "data": {
      "image/png": "[encoded data removed]",
      "text/plain": [
       "<Figure size 432x288 with 1 Axes>"
      ]
     },
     "metadata": {
      "needs_background": "light"
     },
     "output_type": "display_data"
    }
   ],
   "source": [
    "x,y=map(list,zip(*classifyNamedEntity(buisnessFinanceCleaned)))\n",
    "sns.barplot(x=y,y=x)"
   ]
  },
  {
   "cell_type": "code",
   "execution_count": 28,
   "metadata": {},
   "outputs": [
    {
     "name": "stdout",
     "output_type": "stream",
     "text": [
      "[('ORG', 215), ('GPE', 188), ('PERSON', 146), ('DATE', 108), ('NORP', 69), ('CARDINAL', 48), ('ORDINAL', 21), ('LOC', 17), ('TIME', 10), ('EVENT', 9), ('FAC', 7), ('PRODUCT', 6), ('WORK_OF_ART', 3)]\n"
     ]
    },
    {
     "data": {
      "text/plain": [
       "<matplotlib.axes._subplots.AxesSubplot at 0x7f743e214940>"
      ]
     },
     "execution_count": 28,
     "metadata": {},
     "output_type": "execute_result"
    },
    {
     "data": {
      "image/png": "[encoded data removed]",
      "text/plain": [
       "<Figure size 432x288 with 1 Axes>"
      ]
     },
     "metadata": {
      "needs_background": "light"
     },
     "output_type": "display_data"
    }
   ],
   "source": [
    "x,y=map(list,zip(*classifyNamedEntity(coronavirusCleaned)))\n",
    "sns.barplot(x=y,y=x)"
   ]
  }
 ],
 "metadata": {
  "kernelspec": {
   "display_name": "Python 3",
   "language": "python",
   "name": "python3"
  },
  "language_info": {
   "codemirror_mode": {
    "name": "ipython",
    "version": 3
   },
   "file_extension": ".py",
   "mimetype": "text/x-python",
   "name": "python",
   "nbconvert_exporter": "python",
   "pygments_lexer": "ipython3",
   "version": "3.6.9"
  }
 },
 "nbformat": 4,
 "nbformat_minor": 4
}
